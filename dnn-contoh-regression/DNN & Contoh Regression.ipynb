{
 "cells": [
  {
   "cell_type": "markdown",
   "metadata": {},
   "source": [
    "# Neural Network"
   ]
  },
  {
   "cell_type": "markdown",
   "metadata": {},
   "source": [
    "### Library yang dibutuhkan"
   ]
  },
  {
   "cell_type": "markdown",
   "metadata": {},
   "source": [
    "Di sini menggunakan Framework Tensorflow\n",
    "Library yang akan digunakan adalah **pandas, numpy, matplotlib, seaborn, sklearn, dan tensorflow**. Jika belum diinstall, silahkan diinstal dahulu dengan mengetikkan `pip install nama-library` pada anaconda prompt.\n",
    "\n",
    "note: Library tensorflow cukup besar sizenya, sekitar 300MB."
   ]
  },
  {
   "cell_type": "code",
   "execution_count": 1,
   "metadata": {},
   "outputs": [],
   "source": [
    "%matplotlib inline\n",
    "import numpy as np\n",
    "import pandas as pd\n",
    "import seaborn as sns\n",
    "import matplotlib.pyplot as plt\n",
    "import tensorflow as tf"
   ]
  },
  {
   "cell_type": "markdown",
   "metadata": {},
   "source": [
    "  "
   ]
  },
  {
   "cell_type": "markdown",
   "metadata": {},
   "source": [
    "### Sedikit penjelasan mengenai Deep Neural Network"
   ]
  },
  {
   "cell_type": "markdown",
   "metadata": {},
   "source": [
    "**Neural network** adalah sebuah model yang berisikan node atau neuron atau perceptron yang saling terhubung dengan dengan node lain melalui koneksi yang disebut penimbang atau weight. Neural network terbagi menjadi tiga bagian utama:\n",
    "Input Layer\n",
    "Hidden Layer\n",
    "Output Layer\n",
    "\n",
    "Deep Neural Network (DNN) adalah perluasan dari metode neural network. Perbedaannya adalah dalam DNN mempunyai **lebih dari dua hidden layer**. \n",
    "<img src=\"figure/dnn.png\">"
   ]
  },
  {
   "cell_type": "markdown",
   "metadata": {},
   "source": [
    "### Activation Function"
   ]
  },
  {
   "cell_type": "markdown",
   "metadata": {},
   "source": [
    "Activation function berfungsi untuk menentukan apakah neuron tersebut harus aktif atau tidak.\n",
    "Activation yang biasanya digunakan:\n",
    "\n",
    "    sigmoid = untuk binary classification\n",
    "    tanh    = untuk binary classification\n",
    "    softmax = untuk categorical classification\n",
    "    ReLU\n",
    "   lainnya bisa dilihat di `https://en.wikipedia.org/wiki/Activation_function`"
   ]
  },
  {
   "cell_type": "markdown",
   "metadata": {},
   "source": [
    " "
   ]
  },
  {
   "cell_type": "markdown",
   "metadata": {},
   "source": [
    "### Loss Function "
   ]
  },
  {
   "cell_type": "markdown",
   "metadata": {},
   "source": [
    "Loss Functioin berfungsi untuk mengukur seberapa besar nilai error yang dihasilkan dari output terhadap nilai aslinya.\n",
    "Loss function yang biasa digunakan adalah `binary_corssentropy`, `categorical_crossentropy` -> untuk klasifikasi. dan `mse` untuk regresi."
   ]
  },
  {
   "cell_type": "markdown",
   "metadata": {},
   "source": [
    "### Backpropagation"
   ]
  },
  {
   "cell_type": "markdown",
   "metadata": {},
   "source": [
    "Mudahnya backpropagation adalah suatu cara untuk menyesuaikan penimbang dan bias yang dihasilkan untuk meminimalisir error pada output.\n",
    "<img src=\"figure/nn.png\">\n",
    "Caranya adalah\n",
    "1. Menghitung nilai error menggunakan loss function\n",
    "2. Hitung gradien dari loss funtion tersebut\n",
    "<img src=\"figure/loss_opt.png\">\n",
    "<img src=\"figure/loss_opt2.png\">\n",
    "3. Update parameter bias dan penimbang dari hasil gradien yang didapatkan\n",
    "\n",
    "nb: belum terlalu paham dengan backpropagation\n",
    "\n",
    "Optimizer yang biasa digunakan adalah `adam`, `rmsprop`\n",
    "\n",
    "Penjelasannya juga bisa dilihat di sini `https://medium.com/@samuelsena/pengenalan-deep-learning-part-3-backpropagation-algorithm-720be9a5fbb8` dan bisa juga search sendiri ya"
   ]
  },
  {
   "cell_type": "markdown",
   "metadata": {},
   "source": [
    "# Contoh 1 Regression"
   ]
  },
  {
   "cell_type": "markdown",
   "metadata": {},
   "source": [
    "Import Data"
   ]
  },
  {
   "cell_type": "code",
   "execution_count": 2,
   "metadata": {},
   "outputs": [],
   "source": [
    "df = pd.read_csv('california_housing_sklearn.csv')"
   ]
  },
  {
   "cell_type": "code",
   "execution_count": 3,
   "metadata": {},
   "outputs": [
    {
     "data": {
      "text/html": [
       "<div>\n",
       "<style scoped>\n",
       "    .dataframe tbody tr th:only-of-type {\n",
       "        vertical-align: middle;\n",
       "    }\n",
       "\n",
       "    .dataframe tbody tr th {\n",
       "        vertical-align: top;\n",
       "    }\n",
       "\n",
       "    .dataframe thead th {\n",
       "        text-align: right;\n",
       "    }\n",
       "</style>\n",
       "<table border=\"1\" class=\"dataframe\">\n",
       "  <thead>\n",
       "    <tr style=\"text-align: right;\">\n",
       "      <th></th>\n",
       "      <th>MedInc</th>\n",
       "      <th>HouseAge</th>\n",
       "      <th>AveRooms</th>\n",
       "      <th>AveBedrms</th>\n",
       "      <th>Population</th>\n",
       "      <th>AveOccup</th>\n",
       "      <th>Latitude</th>\n",
       "      <th>Longitude</th>\n",
       "      <th>SalePrice</th>\n",
       "    </tr>\n",
       "  </thead>\n",
       "  <tbody>\n",
       "    <tr>\n",
       "      <th>0</th>\n",
       "      <td>8.3252</td>\n",
       "      <td>41.0</td>\n",
       "      <td>6.984127</td>\n",
       "      <td>1.023810</td>\n",
       "      <td>322.0</td>\n",
       "      <td>2.555556</td>\n",
       "      <td>37.88</td>\n",
       "      <td>-122.23</td>\n",
       "      <td>4.526</td>\n",
       "    </tr>\n",
       "    <tr>\n",
       "      <th>1</th>\n",
       "      <td>8.3014</td>\n",
       "      <td>21.0</td>\n",
       "      <td>6.238137</td>\n",
       "      <td>0.971880</td>\n",
       "      <td>2401.0</td>\n",
       "      <td>2.109842</td>\n",
       "      <td>37.86</td>\n",
       "      <td>-122.22</td>\n",
       "      <td>3.585</td>\n",
       "    </tr>\n",
       "    <tr>\n",
       "      <th>2</th>\n",
       "      <td>7.2574</td>\n",
       "      <td>52.0</td>\n",
       "      <td>8.288136</td>\n",
       "      <td>1.073446</td>\n",
       "      <td>496.0</td>\n",
       "      <td>2.802260</td>\n",
       "      <td>37.85</td>\n",
       "      <td>-122.24</td>\n",
       "      <td>3.521</td>\n",
       "    </tr>\n",
       "    <tr>\n",
       "      <th>3</th>\n",
       "      <td>5.6431</td>\n",
       "      <td>52.0</td>\n",
       "      <td>5.817352</td>\n",
       "      <td>1.073059</td>\n",
       "      <td>558.0</td>\n",
       "      <td>2.547945</td>\n",
       "      <td>37.85</td>\n",
       "      <td>-122.25</td>\n",
       "      <td>3.413</td>\n",
       "    </tr>\n",
       "    <tr>\n",
       "      <th>4</th>\n",
       "      <td>3.8462</td>\n",
       "      <td>52.0</td>\n",
       "      <td>6.281853</td>\n",
       "      <td>1.081081</td>\n",
       "      <td>565.0</td>\n",
       "      <td>2.181467</td>\n",
       "      <td>37.85</td>\n",
       "      <td>-122.25</td>\n",
       "      <td>3.422</td>\n",
       "    </tr>\n",
       "  </tbody>\n",
       "</table>\n",
       "</div>"
      ],
      "text/plain": [
       "   MedInc  HouseAge  AveRooms  AveBedrms  Population  AveOccup  Latitude  \\\n",
       "0  8.3252      41.0  6.984127   1.023810       322.0  2.555556     37.88   \n",
       "1  8.3014      21.0  6.238137   0.971880      2401.0  2.109842     37.86   \n",
       "2  7.2574      52.0  8.288136   1.073446       496.0  2.802260     37.85   \n",
       "3  5.6431      52.0  5.817352   1.073059       558.0  2.547945     37.85   \n",
       "4  3.8462      52.0  6.281853   1.081081       565.0  2.181467     37.85   \n",
       "\n",
       "   Longitude  SalePrice  \n",
       "0    -122.23      4.526  \n",
       "1    -122.22      3.585  \n",
       "2    -122.24      3.521  \n",
       "3    -122.25      3.413  \n",
       "4    -122.25      3.422  "
      ]
     },
     "execution_count": 3,
     "metadata": {},
     "output_type": "execute_result"
    }
   ],
   "source": [
    "df.head()"
   ]
  },
  {
   "cell_type": "markdown",
   "metadata": {},
   "source": [
    "Kita akan meregresikan SalePrice (Y) dengan variable independent MedInc, HouseAge, AveRooms, AveBedrms, Population, dan AveOccup."
   ]
  },
  {
   "cell_type": "code",
   "execution_count": 4,
   "metadata": {},
   "outputs": [
    {
     "data": {
      "text/plain": [
       "MedInc        0\n",
       "HouseAge      0\n",
       "AveRooms      0\n",
       "AveBedrms     0\n",
       "Population    0\n",
       "AveOccup      0\n",
       "Latitude      0\n",
       "Longitude     0\n",
       "SalePrice     0\n",
       "dtype: int64"
      ]
     },
     "execution_count": 4,
     "metadata": {},
     "output_type": "execute_result"
    }
   ],
   "source": [
    "df.isnull().sum()"
   ]
  },
  {
   "cell_type": "code",
   "execution_count": 5,
   "metadata": {
    "scrolled": true
   },
   "outputs": [
    {
     "data": {
      "text/html": [
       "<div>\n",
       "<style scoped>\n",
       "    .dataframe tbody tr th:only-of-type {\n",
       "        vertical-align: middle;\n",
       "    }\n",
       "\n",
       "    .dataframe tbody tr th {\n",
       "        vertical-align: top;\n",
       "    }\n",
       "\n",
       "    .dataframe thead th {\n",
       "        text-align: right;\n",
       "    }\n",
       "</style>\n",
       "<table border=\"1\" class=\"dataframe\">\n",
       "  <thead>\n",
       "    <tr style=\"text-align: right;\">\n",
       "      <th></th>\n",
       "      <th>count</th>\n",
       "      <th>mean</th>\n",
       "      <th>std</th>\n",
       "      <th>min</th>\n",
       "      <th>25%</th>\n",
       "      <th>50%</th>\n",
       "      <th>75%</th>\n",
       "      <th>max</th>\n",
       "    </tr>\n",
       "  </thead>\n",
       "  <tbody>\n",
       "    <tr>\n",
       "      <th>MedInc</th>\n",
       "      <td>20640.0</td>\n",
       "      <td>3.870671</td>\n",
       "      <td>1.899822</td>\n",
       "      <td>0.499900</td>\n",
       "      <td>2.563400</td>\n",
       "      <td>3.534800</td>\n",
       "      <td>4.743250</td>\n",
       "      <td>15.000100</td>\n",
       "    </tr>\n",
       "    <tr>\n",
       "      <th>HouseAge</th>\n",
       "      <td>20640.0</td>\n",
       "      <td>28.639486</td>\n",
       "      <td>12.585558</td>\n",
       "      <td>1.000000</td>\n",
       "      <td>18.000000</td>\n",
       "      <td>29.000000</td>\n",
       "      <td>37.000000</td>\n",
       "      <td>52.000000</td>\n",
       "    </tr>\n",
       "    <tr>\n",
       "      <th>AveRooms</th>\n",
       "      <td>20640.0</td>\n",
       "      <td>5.429000</td>\n",
       "      <td>2.474173</td>\n",
       "      <td>0.846154</td>\n",
       "      <td>4.440716</td>\n",
       "      <td>5.229129</td>\n",
       "      <td>6.052381</td>\n",
       "      <td>141.909091</td>\n",
       "    </tr>\n",
       "    <tr>\n",
       "      <th>AveBedrms</th>\n",
       "      <td>20640.0</td>\n",
       "      <td>1.096675</td>\n",
       "      <td>0.473911</td>\n",
       "      <td>0.333333</td>\n",
       "      <td>1.006079</td>\n",
       "      <td>1.048780</td>\n",
       "      <td>1.099526</td>\n",
       "      <td>34.066667</td>\n",
       "    </tr>\n",
       "    <tr>\n",
       "      <th>Population</th>\n",
       "      <td>20640.0</td>\n",
       "      <td>1425.476744</td>\n",
       "      <td>1132.462122</td>\n",
       "      <td>3.000000</td>\n",
       "      <td>787.000000</td>\n",
       "      <td>1166.000000</td>\n",
       "      <td>1725.000000</td>\n",
       "      <td>35682.000000</td>\n",
       "    </tr>\n",
       "    <tr>\n",
       "      <th>AveOccup</th>\n",
       "      <td>20640.0</td>\n",
       "      <td>3.070655</td>\n",
       "      <td>10.386050</td>\n",
       "      <td>0.692308</td>\n",
       "      <td>2.429741</td>\n",
       "      <td>2.818116</td>\n",
       "      <td>3.282261</td>\n",
       "      <td>1243.333333</td>\n",
       "    </tr>\n",
       "    <tr>\n",
       "      <th>Latitude</th>\n",
       "      <td>20640.0</td>\n",
       "      <td>35.631861</td>\n",
       "      <td>2.135952</td>\n",
       "      <td>32.540000</td>\n",
       "      <td>33.930000</td>\n",
       "      <td>34.260000</td>\n",
       "      <td>37.710000</td>\n",
       "      <td>41.950000</td>\n",
       "    </tr>\n",
       "    <tr>\n",
       "      <th>Longitude</th>\n",
       "      <td>20640.0</td>\n",
       "      <td>-119.569704</td>\n",
       "      <td>2.003532</td>\n",
       "      <td>-124.350000</td>\n",
       "      <td>-121.800000</td>\n",
       "      <td>-118.490000</td>\n",
       "      <td>-118.010000</td>\n",
       "      <td>-114.310000</td>\n",
       "    </tr>\n",
       "    <tr>\n",
       "      <th>SalePrice</th>\n",
       "      <td>20640.0</td>\n",
       "      <td>2.068558</td>\n",
       "      <td>1.153956</td>\n",
       "      <td>0.149990</td>\n",
       "      <td>1.196000</td>\n",
       "      <td>1.797000</td>\n",
       "      <td>2.647250</td>\n",
       "      <td>5.000010</td>\n",
       "    </tr>\n",
       "  </tbody>\n",
       "</table>\n",
       "</div>"
      ],
      "text/plain": [
       "              count         mean          std         min         25%  \\\n",
       "MedInc      20640.0     3.870671     1.899822    0.499900    2.563400   \n",
       "HouseAge    20640.0    28.639486    12.585558    1.000000   18.000000   \n",
       "AveRooms    20640.0     5.429000     2.474173    0.846154    4.440716   \n",
       "AveBedrms   20640.0     1.096675     0.473911    0.333333    1.006079   \n",
       "Population  20640.0  1425.476744  1132.462122    3.000000  787.000000   \n",
       "AveOccup    20640.0     3.070655    10.386050    0.692308    2.429741   \n",
       "Latitude    20640.0    35.631861     2.135952   32.540000   33.930000   \n",
       "Longitude   20640.0  -119.569704     2.003532 -124.350000 -121.800000   \n",
       "SalePrice   20640.0     2.068558     1.153956    0.149990    1.196000   \n",
       "\n",
       "                    50%          75%           max  \n",
       "MedInc         3.534800     4.743250     15.000100  \n",
       "HouseAge      29.000000    37.000000     52.000000  \n",
       "AveRooms       5.229129     6.052381    141.909091  \n",
       "AveBedrms      1.048780     1.099526     34.066667  \n",
       "Population  1166.000000  1725.000000  35682.000000  \n",
       "AveOccup       2.818116     3.282261   1243.333333  \n",
       "Latitude      34.260000    37.710000     41.950000  \n",
       "Longitude   -118.490000  -118.010000   -114.310000  \n",
       "SalePrice      1.797000     2.647250      5.000010  "
      ]
     },
     "execution_count": 5,
     "metadata": {},
     "output_type": "execute_result"
    }
   ],
   "source": [
    "df.describe().transpose()"
   ]
  },
  {
   "cell_type": "markdown",
   "metadata": {},
   "source": [
    "#### Distribution Plot dari Sale Price"
   ]
  },
  {
   "cell_type": "code",
   "execution_count": 6,
   "metadata": {},
   "outputs": [
    {
     "name": "stderr",
     "output_type": "stream",
     "text": [
      "C:\\Users\\ASUS\\anaconda3\\lib\\site-packages\\seaborn\\distributions.py:2551: FutureWarning: `distplot` is a deprecated function and will be removed in a future version. Please adapt your code to use either `displot` (a figure-level function with similar flexibility) or `histplot` (an axes-level function for histograms).\n",
      "  warnings.warn(msg, FutureWarning)\n"
     ]
    },
    {
     "data": {
      "text/plain": [
       "<AxesSubplot:xlabel='SalePrice', ylabel='Density'>"
      ]
     },
     "execution_count": 6,
     "metadata": {},
     "output_type": "execute_result"
    },
    {
     "data": {
      "image/png": "[encoded data removed]",
      "text/plain": [
       "<Figure size 720x576 with 1 Axes>"
      ]
     },
     "metadata": {
      "needs_background": "light"
     },
     "output_type": "display_data"
    }
   ],
   "source": [
    "plt.figure(figsize=(10,8))\n",
    "sns.distplot(df['SalePrice'])"
   ]
  },
  {
   "cell_type": "markdown",
   "metadata": {},
   "source": [
    "#### Korelasi"
   ]
  },
  {
   "cell_type": "code",
   "execution_count": 7,
   "metadata": {},
   "outputs": [
    {
     "data": {
      "text/html": [
       "<div>\n",
       "<style scoped>\n",
       "    .dataframe tbody tr th:only-of-type {\n",
       "        vertical-align: middle;\n",
       "    }\n",
       "\n",
       "    .dataframe tbody tr th {\n",
       "        vertical-align: top;\n",
       "    }\n",
       "\n",
       "    .dataframe thead th {\n",
       "        text-align: right;\n",
       "    }\n",
       "</style>\n",
       "<table border=\"1\" class=\"dataframe\">\n",
       "  <thead>\n",
       "    <tr style=\"text-align: right;\">\n",
       "      <th></th>\n",
       "      <th>MedInc</th>\n",
       "      <th>HouseAge</th>\n",
       "      <th>AveRooms</th>\n",
       "      <th>AveBedrms</th>\n",
       "      <th>Population</th>\n",
       "      <th>AveOccup</th>\n",
       "      <th>Latitude</th>\n",
       "      <th>Longitude</th>\n",
       "      <th>SalePrice</th>\n",
       "    </tr>\n",
       "  </thead>\n",
       "  <tbody>\n",
       "    <tr>\n",
       "      <th>MedInc</th>\n",
       "      <td>1.000000</td>\n",
       "      <td>-0.119034</td>\n",
       "      <td>0.326895</td>\n",
       "      <td>-0.062040</td>\n",
       "      <td>0.004834</td>\n",
       "      <td>0.018766</td>\n",
       "      <td>-0.079809</td>\n",
       "      <td>-0.015176</td>\n",
       "      <td>0.688075</td>\n",
       "    </tr>\n",
       "    <tr>\n",
       "      <th>HouseAge</th>\n",
       "      <td>-0.119034</td>\n",
       "      <td>1.000000</td>\n",
       "      <td>-0.153277</td>\n",
       "      <td>-0.077747</td>\n",
       "      <td>-0.296244</td>\n",
       "      <td>0.013191</td>\n",
       "      <td>0.011173</td>\n",
       "      <td>-0.108197</td>\n",
       "      <td>0.105623</td>\n",
       "    </tr>\n",
       "    <tr>\n",
       "      <th>AveRooms</th>\n",
       "      <td>0.326895</td>\n",
       "      <td>-0.153277</td>\n",
       "      <td>1.000000</td>\n",
       "      <td>0.847621</td>\n",
       "      <td>-0.072213</td>\n",
       "      <td>-0.004852</td>\n",
       "      <td>0.106389</td>\n",
       "      <td>-0.027540</td>\n",
       "      <td>0.151948</td>\n",
       "    </tr>\n",
       "    <tr>\n",
       "      <th>AveBedrms</th>\n",
       "      <td>-0.062040</td>\n",
       "      <td>-0.077747</td>\n",
       "      <td>0.847621</td>\n",
       "      <td>1.000000</td>\n",
       "      <td>-0.066197</td>\n",
       "      <td>-0.006181</td>\n",
       "      <td>0.069721</td>\n",
       "      <td>0.013344</td>\n",
       "      <td>-0.046701</td>\n",
       "    </tr>\n",
       "    <tr>\n",
       "      <th>Population</th>\n",
       "      <td>0.004834</td>\n",
       "      <td>-0.296244</td>\n",
       "      <td>-0.072213</td>\n",
       "      <td>-0.066197</td>\n",
       "      <td>1.000000</td>\n",
       "      <td>0.069863</td>\n",
       "      <td>-0.108785</td>\n",
       "      <td>0.099773</td>\n",
       "      <td>-0.024650</td>\n",
       "    </tr>\n",
       "    <tr>\n",
       "      <th>AveOccup</th>\n",
       "      <td>0.018766</td>\n",
       "      <td>0.013191</td>\n",
       "      <td>-0.004852</td>\n",
       "      <td>-0.006181</td>\n",
       "      <td>0.069863</td>\n",
       "      <td>1.000000</td>\n",
       "      <td>0.002366</td>\n",
       "      <td>0.002476</td>\n",
       "      <td>-0.023737</td>\n",
       "    </tr>\n",
       "    <tr>\n",
       "      <th>Latitude</th>\n",
       "      <td>-0.079809</td>\n",
       "      <td>0.011173</td>\n",
       "      <td>0.106389</td>\n",
       "      <td>0.069721</td>\n",
       "      <td>-0.108785</td>\n",
       "      <td>0.002366</td>\n",
       "      <td>1.000000</td>\n",
       "      <td>-0.924664</td>\n",
       "      <td>-0.144160</td>\n",
       "    </tr>\n",
       "    <tr>\n",
       "      <th>Longitude</th>\n",
       "      <td>-0.015176</td>\n",
       "      <td>-0.108197</td>\n",
       "      <td>-0.027540</td>\n",
       "      <td>0.013344</td>\n",
       "      <td>0.099773</td>\n",
       "      <td>0.002476</td>\n",
       "      <td>-0.924664</td>\n",
       "      <td>1.000000</td>\n",
       "      <td>-0.045967</td>\n",
       "    </tr>\n",
       "    <tr>\n",
       "      <th>SalePrice</th>\n",
       "      <td>0.688075</td>\n",
       "      <td>0.105623</td>\n",
       "      <td>0.151948</td>\n",
       "      <td>-0.046701</td>\n",
       "      <td>-0.024650</td>\n",
       "      <td>-0.023737</td>\n",
       "      <td>-0.144160</td>\n",
       "      <td>-0.045967</td>\n",
       "      <td>1.000000</td>\n",
       "    </tr>\n",
       "  </tbody>\n",
       "</table>\n",
       "</div>"
      ],
      "text/plain": [
       "              MedInc  HouseAge  AveRooms  AveBedrms  Population  AveOccup  \\\n",
       "MedInc      1.000000 -0.119034  0.326895  -0.062040    0.004834  0.018766   \n",
       "HouseAge   -0.119034  1.000000 -0.153277  -0.077747   -0.296244  0.013191   \n",
       "AveRooms    0.326895 -0.153277  1.000000   0.847621   -0.072213 -0.004852   \n",
       "AveBedrms  -0.062040 -0.077747  0.847621   1.000000   -0.066197 -0.006181   \n",
       "Population  0.004834 -0.296244 -0.072213  -0.066197    1.000000  0.069863   \n",
       "AveOccup    0.018766  0.013191 -0.004852  -0.006181    0.069863  1.000000   \n",
       "Latitude   -0.079809  0.011173  0.106389   0.069721   -0.108785  0.002366   \n",
       "Longitude  -0.015176 -0.108197 -0.027540   0.013344    0.099773  0.002476   \n",
       "SalePrice   0.688075  0.105623  0.151948  -0.046701   -0.024650 -0.023737   \n",
       "\n",
       "            Latitude  Longitude  SalePrice  \n",
       "MedInc     -0.079809  -0.015176   0.688075  \n",
       "HouseAge    0.011173  -0.108197   0.105623  \n",
       "AveRooms    0.106389  -0.027540   0.151948  \n",
       "AveBedrms   0.069721   0.013344  -0.046701  \n",
       "Population -0.108785   0.099773  -0.024650  \n",
       "AveOccup    0.002366   0.002476  -0.023737  \n",
       "Latitude    1.000000  -0.924664  -0.144160  \n",
       "Longitude  -0.924664   1.000000  -0.045967  \n",
       "SalePrice  -0.144160  -0.045967   1.000000  "
      ]
     },
     "execution_count": 7,
     "metadata": {},
     "output_type": "execute_result"
    }
   ],
   "source": [
    "df.corr()"
   ]
  },
  {
   "cell_type": "code",
   "execution_count": 8,
   "metadata": {},
   "outputs": [
    {
     "data": {
      "text/plain": [
       "Latitude     -0.144160\n",
       "AveBedrms    -0.046701\n",
       "Longitude    -0.045967\n",
       "Population   -0.024650\n",
       "AveOccup     -0.023737\n",
       "HouseAge      0.105623\n",
       "AveRooms      0.151948\n",
       "MedInc        0.688075\n",
       "SalePrice     1.000000\n",
       "Name: SalePrice, dtype: float64"
      ]
     },
     "execution_count": 8,
     "metadata": {},
     "output_type": "execute_result"
    }
   ],
   "source": [
    "df.corr()['SalePrice'].sort_values()"
   ]
  },
  {
   "cell_type": "markdown",
   "metadata": {},
   "source": [
    "#### Scatter Plot"
   ]
  },
  {
   "cell_type": "code",
   "execution_count": 9,
   "metadata": {},
   "outputs": [
    {
     "data": {
      "text/plain": [
       "<AxesSubplot:xlabel='AveRooms', ylabel='SalePrice'>"
      ]
     },
     "execution_count": 9,
     "metadata": {},
     "output_type": "execute_result"
    },
    {
     "data": {
      "image/png": "[encoded data removed]",
      "text/plain": [
       "<Figure size 432x288 with 1 Axes>"
      ]
     },
     "metadata": {
      "needs_background": "light"
     },
     "output_type": "display_data"
    }
   ],
   "source": [
    "sns.scatterplot(x='AveRooms', y='SalePrice', data=df)"
   ]
  },
  {
   "cell_type": "code",
   "execution_count": 10,
   "metadata": {},
   "outputs": [
    {
     "data": {
      "text/plain": [
       "<AxesSubplot:xlabel='Longitude', ylabel='Latitude'>"
      ]
     },
     "execution_count": 10,
     "metadata": {},
     "output_type": "execute_result"
    },
    {
     "data": {
      "image/png": "[encoded data removed]",
      "text/plain": [
       "<Figure size 432x288 with 1 Axes>"
      ]
     },
     "metadata": {
      "needs_background": "light"
     },
     "output_type": "display_data"
    }
   ],
   "source": [
    "sns.scatterplot(x='Longitude', y='Latitude', data=df, edgecolor=None, alpha=0.2, hue='SalePrice')"
   ]
  },
  {
   "cell_type": "markdown",
   "metadata": {},
   "source": [
    "### Creating a model"
   ]
  },
  {
   "cell_type": "code",
   "execution_count": 11,
   "metadata": {},
   "outputs": [],
   "source": [
    "data=df.drop(['Longitude', 'Latitude'], axis=1) #Membuang variabel Longitude dan Latitude #axis=1 untuk kolom, axis=0 untuk baris"
   ]
  },
  {
   "cell_type": "code",
   "execution_count": 12,
   "metadata": {},
   "outputs": [
    {
     "data": {
      "text/html": [
       "<div>\n",
       "<style scoped>\n",
       "    .dataframe tbody tr th:only-of-type {\n",
       "        vertical-align: middle;\n",
       "    }\n",
       "\n",
       "    .dataframe tbody tr th {\n",
       "        vertical-align: top;\n",
       "    }\n",
       "\n",
       "    .dataframe thead th {\n",
       "        text-align: right;\n",
       "    }\n",
       "</style>\n",
       "<table border=\"1\" class=\"dataframe\">\n",
       "  <thead>\n",
       "    <tr style=\"text-align: right;\">\n",
       "      <th></th>\n",
       "      <th>MedInc</th>\n",
       "      <th>HouseAge</th>\n",
       "      <th>AveRooms</th>\n",
       "      <th>AveBedrms</th>\n",
       "      <th>Population</th>\n",
       "      <th>AveOccup</th>\n",
       "      <th>SalePrice</th>\n",
       "    </tr>\n",
       "  </thead>\n",
       "  <tbody>\n",
       "    <tr>\n",
       "      <th>0</th>\n",
       "      <td>8.3252</td>\n",
       "      <td>41.0</td>\n",
       "      <td>6.984127</td>\n",
       "      <td>1.023810</td>\n",
       "      <td>322.0</td>\n",
       "      <td>2.555556</td>\n",
       "      <td>4.526</td>\n",
       "    </tr>\n",
       "    <tr>\n",
       "      <th>1</th>\n",
       "      <td>8.3014</td>\n",
       "      <td>21.0</td>\n",
       "      <td>6.238137</td>\n",
       "      <td>0.971880</td>\n",
       "      <td>2401.0</td>\n",
       "      <td>2.109842</td>\n",
       "      <td>3.585</td>\n",
       "    </tr>\n",
       "    <tr>\n",
       "      <th>2</th>\n",
       "      <td>7.2574</td>\n",
       "      <td>52.0</td>\n",
       "      <td>8.288136</td>\n",
       "      <td>1.073446</td>\n",
       "      <td>496.0</td>\n",
       "      <td>2.802260</td>\n",
       "      <td>3.521</td>\n",
       "    </tr>\n",
       "    <tr>\n",
       "      <th>3</th>\n",
       "      <td>5.6431</td>\n",
       "      <td>52.0</td>\n",
       "      <td>5.817352</td>\n",
       "      <td>1.073059</td>\n",
       "      <td>558.0</td>\n",
       "      <td>2.547945</td>\n",
       "      <td>3.413</td>\n",
       "    </tr>\n",
       "    <tr>\n",
       "      <th>4</th>\n",
       "      <td>3.8462</td>\n",
       "      <td>52.0</td>\n",
       "      <td>6.281853</td>\n",
       "      <td>1.081081</td>\n",
       "      <td>565.0</td>\n",
       "      <td>2.181467</td>\n",
       "      <td>3.422</td>\n",
       "    </tr>\n",
       "  </tbody>\n",
       "</table>\n",
       "</div>"
      ],
      "text/plain": [
       "   MedInc  HouseAge  AveRooms  AveBedrms  Population  AveOccup  SalePrice\n",
       "0  8.3252      41.0  6.984127   1.023810       322.0  2.555556      4.526\n",
       "1  8.3014      21.0  6.238137   0.971880      2401.0  2.109842      3.585\n",
       "2  7.2574      52.0  8.288136   1.073446       496.0  2.802260      3.521\n",
       "3  5.6431      52.0  5.817352   1.073059       558.0  2.547945      3.413\n",
       "4  3.8462      52.0  6.281853   1.081081       565.0  2.181467      3.422"
      ]
     },
     "execution_count": 12,
     "metadata": {},
     "output_type": "execute_result"
    }
   ],
   "source": [
    "data.head()"
   ]
  },
  {
   "cell_type": "code",
   "execution_count": 13,
   "metadata": {},
   "outputs": [],
   "source": [
    "X = data.drop('SalePrice', axis=1).values\n",
    "y = data['SalePrice']"
   ]
  },
  {
   "cell_type": "code",
   "execution_count": 14,
   "metadata": {},
   "outputs": [],
   "source": [
    "from sklearn.model_selection import train_test_split"
   ]
  },
  {
   "cell_type": "code",
   "execution_count": 15,
   "metadata": {},
   "outputs": [],
   "source": [
    "#Split data menjadi data training dan testing\n",
    "\n",
    "X_train, X_test, y_train, y_test = train_test_split(X,y,test_size=0.3,random_state=221810445)"
   ]
  },
  {
   "cell_type": "markdown",
   "metadata": {},
   "source": [
    "#### Normalizing (MinMaxScaler)"
   ]
  },
  {
   "cell_type": "code",
   "execution_count": 16,
   "metadata": {},
   "outputs": [],
   "source": [
    "from sklearn.preprocessing import MinMaxScaler"
   ]
  },
  {
   "cell_type": "code",
   "execution_count": 17,
   "metadata": {},
   "outputs": [],
   "source": [
    "scaler = MinMaxScaler()"
   ]
  },
  {
   "cell_type": "code",
   "execution_count": 18,
   "metadata": {},
   "outputs": [],
   "source": [
    "X_train= scaler.fit_transform(X_train)"
   ]
  },
  {
   "cell_type": "code",
   "execution_count": 19,
   "metadata": {},
   "outputs": [],
   "source": [
    "X_test = scaler.transform(X_test)"
   ]
  },
  {
   "cell_type": "code",
   "execution_count": 20,
   "metadata": {},
   "outputs": [
    {
     "data": {
      "text/plain": [
       "(14448, 6)"
      ]
     },
     "execution_count": 20,
     "metadata": {},
     "output_type": "execute_result"
    }
   ],
   "source": [
    "X_train.shape #ada 6 kolom dan 14449 baris"
   ]
  },
  {
   "cell_type": "markdown",
   "metadata": {},
   "source": [
    "### Creating Model"
   ]
  },
  {
   "cell_type": "code",
   "execution_count": 21,
   "metadata": {},
   "outputs": [],
   "source": [
    "from tensorflow.keras.models import Sequential\n",
    "from tensorflow.keras.layers import Dense, Activation\n",
    "from tensorflow.keras.optimizers import Adam"
   ]
  },
  {
   "cell_type": "code",
   "execution_count": 22,
   "metadata": {},
   "outputs": [],
   "source": [
    "model = Sequential()\n",
    "\n",
    "model.add(Dense(6,activation='relu')) #input layer\n",
    "model.add(Dense(6,activation='relu')) #hidden layer\n",
    "model.add(Dense(1)) #output layer\n",
    "\n",
    "model.compile(optimizer='adam',loss='mse') "
   ]
  },
  {
   "cell_type": "markdown",
   "metadata": {},
   "source": [
    "Banyaknya hidden layer itu tidak ada patokannya, akan tetapi semakin rumit permasalahan, semakin banyak hidden layer. \n",
    "`https://stats.stackexchange.com/questions/181/how-to-choose-the-number-of-hidden-layers-and-nodes-in-a-feedforward-neural-netw`"
   ]
  },
  {
   "cell_type": "markdown",
   "metadata": {},
   "source": [
    "### Training Model "
   ]
  },
  {
   "cell_type": "markdown",
   "metadata": {},
   "source": [
    "`batch size` adalah jumlah batch datanya (jadi datanya dipecah menjadi beberapa batch), semakin sedikit jumlah batch semakin lama runningnya. Batch berguna untuk data yang berukuran besar. Jumlah batch biasanya 2^n.\n",
    "\n",
    "`epochs` adalah iterasi untuk update penimbang dan bias. 1 epoch sama dengan menjalankan network dari input sampai ke output. epoch ke 2 (iterasi ke-2) meng-update penimbang dan bias kemudian menjalankan networknya lagi, dst. Standarnya berapa? kira-kira aja wkwkwk nnti diganti2 aja jumlahnya"
   ]
  },
  {
   "cell_type": "code",
   "execution_count": 23,
   "metadata": {},
   "outputs": [
    {
     "name": "stdout",
     "output_type": "stream",
     "text": [
      "Epoch 1/400\n",
      "452/452 [==============================] - 1s 2ms/step - loss: 2.3362 - val_loss: 1.0455\n",
      "Epoch 2/400\n",
      "452/452 [==============================] - 1s 1ms/step - loss: 0.9626 - val_loss: 0.8832\n",
      "Epoch 3/400\n",
      "452/452 [==============================] - 1s 1ms/step - loss: 0.8037 - val_loss: 0.7338\n",
      "Epoch 4/400\n",
      "452/452 [==============================] - 0s 1ms/step - loss: 0.6964 - val_loss: 0.6705\n",
      "Epoch 5/400\n",
      "452/452 [==============================] - 1s 1ms/step - loss: 0.6615 - val_loss: 0.6497\n",
      "Epoch 6/400\n",
      "452/452 [==============================] - 1s 2ms/step - loss: 0.6513 - val_loss: 0.6493\n",
      "Epoch 7/400\n",
      "452/452 [==============================] - 0s 1ms/step - loss: 0.6468 - val_loss: 0.6419\n",
      "Epoch 8/400\n",
      "452/452 [==============================] - 1s 1ms/step - loss: 0.6437 - val_loss: 0.6374\n",
      "Epoch 9/400\n",
      "452/452 [==============================] - 0s 997us/step - loss: 0.6424 - val_loss: 0.6360\n",
      "Epoch 10/400\n",
      "452/452 [==============================] - 1s 1ms/step - loss: 0.6398 - val_loss: 0.6348\n",
      "Epoch 11/400\n",
      "452/452 [==============================] - 1s 1ms/step - loss: 0.6375 - val_loss: 0.6322\n",
      "Epoch 12/400\n",
      "452/452 [==============================] - 1s 1ms/step - loss: 0.6357 - val_loss: 0.6341\n",
      "Epoch 13/400\n",
      "452/452 [==============================] - 0s 1ms/step - loss: 0.6326 - val_loss: 0.6323\n",
      "Epoch 14/400\n",
      "452/452 [==============================] - 0s 1ms/step - loss: 0.6303 - val_loss: 0.6288\n",
      "Epoch 15/400\n",
      "452/452 [==============================] - 0s 1ms/step - loss: 0.6278 - val_loss: 0.6226\n",
      "Epoch 16/400\n",
      "452/452 [==============================] - 0s 1ms/step - loss: 0.6230 - val_loss: 0.6179\n",
      "Epoch 17/400\n",
      "452/452 [==============================] - 0s 958us/step - loss: 0.6176 - val_loss: 0.6132\n",
      "Epoch 18/400\n",
      "452/452 [==============================] - 0s 854us/step - loss: 0.6120 - val_loss: 0.6081\n",
      "Epoch 19/400\n",
      "452/452 [==============================] - 0s 911us/step - loss: 0.6067 - val_loss: 0.6023\n",
      "Epoch 20/400\n",
      "452/452 [==============================] - 0s 849us/step - loss: 0.6019 - val_loss: 0.5983\n",
      "Epoch 21/400\n",
      "452/452 [==============================] - 0s 876us/step - loss: 0.5963 - val_loss: 0.5921\n",
      "Epoch 22/400\n",
      "452/452 [==============================] - 0s 889us/step - loss: 0.5902 - val_loss: 0.5869\n",
      "Epoch 23/400\n",
      "452/452 [==============================] - 0s 849us/step - loss: 0.5852 - val_loss: 0.5826\n",
      "Epoch 24/400\n",
      "452/452 [==============================] - 0s 913us/step - loss: 0.5787 - val_loss: 0.5778\n",
      "Epoch 25/400\n",
      "452/452 [==============================] - 0s 877us/step - loss: 0.5740 - val_loss: 0.5713\n",
      "Epoch 26/400\n",
      "452/452 [==============================] - 0s 1ms/step - loss: 0.5696 - val_loss: 0.5667\n",
      "Epoch 27/400\n",
      "452/452 [==============================] - 0s 920us/step - loss: 0.5654 - val_loss: 0.5642\n",
      "Epoch 28/400\n",
      "452/452 [==============================] - 0s 891us/step - loss: 0.5589 - val_loss: 0.5592\n",
      "Epoch 29/400\n",
      "452/452 [==============================] - 0s 1ms/step - loss: 0.5550 - val_loss: 0.5587\n",
      "Epoch 30/400\n",
      "452/452 [==============================] - 0s 896us/step - loss: 0.5511 - val_loss: 0.5524\n",
      "Epoch 31/400\n",
      "452/452 [==============================] - 0s 852us/step - loss: 0.5478 - val_loss: 0.5503\n",
      "Epoch 32/400\n",
      "452/452 [==============================] - 0s 922us/step - loss: 0.5439 - val_loss: 0.5508\n",
      "Epoch 33/400\n",
      "452/452 [==============================] - 0s 854us/step - loss: 0.5418 - val_loss: 0.5461\n",
      "Epoch 34/400\n",
      "452/452 [==============================] - 0s 920us/step - loss: 0.5388 - val_loss: 0.5436\n",
      "Epoch 35/400\n",
      "452/452 [==============================] - 0s 854us/step - loss: 0.5363 - val_loss: 0.5414\n",
      "Epoch 36/400\n",
      "452/452 [==============================] - 0s 876us/step - loss: 0.5328 - val_loss: 0.5413\n",
      "Epoch 37/400\n",
      "452/452 [==============================] - 0s 960us/step - loss: 0.5313 - val_loss: 0.5393\n",
      "Epoch 38/400\n",
      "452/452 [==============================] - 0s 852us/step - loss: 0.5296 - val_loss: 0.5357\n",
      "Epoch 39/400\n",
      "452/452 [==============================] - 0s 894us/step - loss: 0.5273 - val_loss: 0.5343\n",
      "Epoch 40/400\n",
      "452/452 [==============================] - 0s 1ms/step - loss: 0.5257 - val_loss: 0.5326\n",
      "Epoch 41/400\n",
      "452/452 [==============================] - 1s 1ms/step - loss: 0.5243 - val_loss: 0.5314\n",
      "Epoch 42/400\n",
      "452/452 [==============================] - 0s 913us/step - loss: 0.5233 - val_loss: 0.5307\n",
      "Epoch 43/400\n",
      "452/452 [==============================] - 0s 874us/step - loss: 0.5211 - val_loss: 0.5311\n",
      "Epoch 44/400\n",
      "452/452 [==============================] - 0s 933us/step - loss: 0.5199 - val_loss: 0.5298\n",
      "Epoch 45/400\n",
      "452/452 [==============================] - 0s 861us/step - loss: 0.5182 - val_loss: 0.5341\n",
      "Epoch 46/400\n",
      "452/452 [==============================] - 0s 892us/step - loss: 0.5175 - val_loss: 0.5309\n",
      "Epoch 47/400\n",
      "452/452 [==============================] - 0s 869us/step - loss: 0.5155 - val_loss: 0.5262\n",
      "Epoch 48/400\n",
      "452/452 [==============================] - 0s 861us/step - loss: 0.5152 - val_loss: 0.5269\n",
      "Epoch 49/400\n",
      "452/452 [==============================] - 0s 916us/step - loss: 0.5136 - val_loss: 0.5239\n",
      "Epoch 50/400\n",
      "452/452 [==============================] - 0s 849us/step - loss: 0.5141 - val_loss: 0.5307\n",
      "Epoch 51/400\n",
      "452/452 [==============================] - 0s 861us/step - loss: 0.5119 - val_loss: 0.5330\n",
      "Epoch 52/400\n",
      "452/452 [==============================] - 0s 913us/step - loss: 0.5119 - val_loss: 0.5207\n",
      "Epoch 53/400\n",
      "452/452 [==============================] - 0s 880us/step - loss: 0.5097 - val_loss: 0.5216\n",
      "Epoch 54/400\n",
      "452/452 [==============================] - 0s 902us/step - loss: 0.5086 - val_loss: 0.5212\n",
      "Epoch 55/400\n",
      "452/452 [==============================] - 0s 849us/step - loss: 0.5076 - val_loss: 0.5225\n",
      "Epoch 56/400\n",
      "452/452 [==============================] - 0s 898us/step - loss: 0.5073 - val_loss: 0.5184\n",
      "Epoch 57/400\n",
      "452/452 [==============================] - 0s 949us/step - loss: 0.5064 - val_loss: 0.5258\n",
      "Epoch 58/400\n",
      "452/452 [==============================] - 0s 977us/step - loss: 0.5058 - val_loss: 0.5185\n",
      "Epoch 59/400\n",
      "452/452 [==============================] - 0s 1ms/step - loss: 0.5048 - val_loss: 0.5169\n",
      "Epoch 60/400\n",
      "452/452 [==============================] - 0s 881us/step - loss: 0.5048 - val_loss: 0.5150\n",
      "Epoch 61/400\n",
      "452/452 [==============================] - 0s 1ms/step - loss: 0.5028 - val_loss: 0.5167\n",
      "Epoch 62/400\n",
      "452/452 [==============================] - 0s 918us/step - loss: 0.5023 - val_loss: 0.5109\n",
      "Epoch 63/400\n",
      "452/452 [==============================] - 0s 866us/step - loss: 0.5004 - val_loss: 0.5122\n",
      "Epoch 64/400\n",
      "452/452 [==============================] - 0s 940us/step - loss: 0.4991 - val_loss: 0.5111\n",
      "Epoch 65/400\n",
      "452/452 [==============================] - 0s 1ms/step - loss: 0.4985 - val_loss: 0.5086\n",
      "Epoch 66/400\n",
      "452/452 [==============================] - 0s 889us/step - loss: 0.4969 - val_loss: 0.5093\n",
      "Epoch 67/400\n",
      "452/452 [==============================] - 0s 1ms/step - loss: 0.4974 - val_loss: 0.5151\n",
      "Epoch 68/400\n",
      "452/452 [==============================] - 1s 1ms/step - loss: 0.4973 - val_loss: 0.5060\n",
      "Epoch 69/400\n",
      "452/452 [==============================] - 0s 1ms/step - loss: 0.4964 - val_loss: 0.5156\n",
      "Epoch 70/400\n",
      "452/452 [==============================] - 0s 1ms/step - loss: 0.4967 - val_loss: 0.5043\n",
      "Epoch 71/400\n",
      "452/452 [==============================] - 0s 1ms/step - loss: 0.4956 - val_loss: 0.5029\n",
      "Epoch 72/400\n",
      "452/452 [==============================] - 0s 843us/step - loss: 0.4923 - val_loss: 0.5043\n",
      "Epoch 73/400\n",
      "452/452 [==============================] - 0s 891us/step - loss: 0.4918 - val_loss: 0.5013\n",
      "Epoch 74/400\n",
      "452/452 [==============================] - 0s 878us/step - loss: 0.4908 - val_loss: 0.4980\n",
      "Epoch 75/400\n",
      "452/452 [==============================] - 0s 855us/step - loss: 0.4898 - val_loss: 0.5001\n",
      "Epoch 76/400\n",
      "452/452 [==============================] - 0s 1ms/step - loss: 0.4879 - val_loss: 0.4948\n",
      "Epoch 77/400\n",
      "452/452 [==============================] - 0s 849us/step - loss: 0.4891 - val_loss: 0.5028\n",
      "Epoch 78/400\n",
      "452/452 [==============================] - 0s 867us/step - loss: 0.4865 - val_loss: 0.4950\n",
      "Epoch 79/400\n",
      "452/452 [==============================] - 0s 909us/step - loss: 0.4855 - val_loss: 0.4907\n",
      "Epoch 80/400\n"
     ]
    },
    {
     "name": "stdout",
     "output_type": "stream",
     "text": [
      "452/452 [==============================] - 0s 849us/step - loss: 0.4843 - val_loss: 0.4886\n",
      "Epoch 81/400\n",
      "452/452 [==============================] - 0s 896us/step - loss: 0.4838 - val_loss: 0.4878\n",
      "Epoch 82/400\n",
      "452/452 [==============================] - 0s 825us/step - loss: 0.4831 - val_loss: 0.4985\n",
      "Epoch 83/400\n",
      "452/452 [==============================] - 0s 834us/step - loss: 0.4816 - val_loss: 0.4885\n",
      "Epoch 84/400\n",
      "452/452 [==============================] - 0s 909us/step - loss: 0.4817 - val_loss: 0.4892\n",
      "Epoch 85/400\n",
      "452/452 [==============================] - 0s 849us/step - loss: 0.4812 - val_loss: 0.4864\n",
      "Epoch 86/400\n",
      "452/452 [==============================] - 0s 858us/step - loss: 0.4790 - val_loss: 0.4939\n",
      "Epoch 87/400\n",
      "452/452 [==============================] - 0s 863us/step - loss: 0.4805 - val_loss: 0.4827\n",
      "Epoch 88/400\n",
      "452/452 [==============================] - 0s 843us/step - loss: 0.4775 - val_loss: 0.4926\n",
      "Epoch 89/400\n",
      "452/452 [==============================] - 0s 916us/step - loss: 0.4774 - val_loss: 0.4864\n",
      "Epoch 90/400\n",
      "452/452 [==============================] - 0s 889us/step - loss: 0.4774 - val_loss: 0.4813\n",
      "Epoch 91/400\n",
      "452/452 [==============================] - 0s 836us/step - loss: 0.4763 - val_loss: 0.4821\n",
      "Epoch 92/400\n",
      "452/452 [==============================] - 0s 885us/step - loss: 0.4762 - val_loss: 0.4863\n",
      "Epoch 93/400\n",
      "452/452 [==============================] - 0s 870us/step - loss: 0.4745 - val_loss: 0.4813\n",
      "Epoch 94/400\n",
      "452/452 [==============================] - 0s 920us/step - loss: 0.4742 - val_loss: 0.4802\n",
      "Epoch 95/400\n",
      "452/452 [==============================] - 0s 830us/step - loss: 0.4737 - val_loss: 0.4827\n",
      "Epoch 96/400\n",
      "452/452 [==============================] - 0s 850us/step - loss: 0.4722 - val_loss: 0.4832\n",
      "Epoch 97/400\n",
      "452/452 [==============================] - 0s 945us/step - loss: 0.4718 - val_loss: 0.4848\n",
      "Epoch 98/400\n",
      "452/452 [==============================] - 0s 858us/step - loss: 0.4720 - val_loss: 0.4931\n",
      "Epoch 99/400\n",
      "452/452 [==============================] - 0s 857us/step - loss: 0.4717 - val_loss: 0.4754\n",
      "Epoch 100/400\n",
      "452/452 [==============================] - 0s 896us/step - loss: 0.4726 - val_loss: 0.4779\n",
      "Epoch 101/400\n",
      "452/452 [==============================] - 0s 849us/step - loss: 0.4705 - val_loss: 0.4765\n",
      "Epoch 102/400\n",
      "452/452 [==============================] - 0s 913us/step - loss: 0.4713 - val_loss: 0.4776\n",
      "Epoch 103/400\n",
      "452/452 [==============================] - 0s 838us/step - loss: 0.4688 - val_loss: 0.4747\n",
      "Epoch 104/400\n",
      "452/452 [==============================] - 0s 838us/step - loss: 0.4689 - val_loss: 0.4770\n",
      "Epoch 105/400\n",
      "452/452 [==============================] - 0s 900us/step - loss: 0.4684 - val_loss: 0.4730\n",
      "Epoch 106/400\n",
      "452/452 [==============================] - 0s 847us/step - loss: 0.4687 - val_loss: 0.4732\n",
      "Epoch 107/400\n",
      "452/452 [==============================] - 0s 836us/step - loss: 0.4683 - val_loss: 0.4756\n",
      "Epoch 108/400\n",
      "452/452 [==============================] - 1s 1ms/step - loss: 0.4680 - val_loss: 0.4739\n",
      "Epoch 109/400\n",
      "452/452 [==============================] - 0s 964us/step - loss: 0.4685 - val_loss: 0.4934\n",
      "Epoch 110/400\n",
      "452/452 [==============================] - 0s 1ms/step - loss: 0.4666 - val_loss: 0.4815\n",
      "Epoch 111/400\n",
      "452/452 [==============================] - 0s 980us/step - loss: 0.4670 - val_loss: 0.4714\n",
      "Epoch 112/400\n",
      "452/452 [==============================] - 0s 894us/step - loss: 0.4655 - val_loss: 0.4815\n",
      "Epoch 113/400\n",
      "452/452 [==============================] - 0s 878us/step - loss: 0.4669 - val_loss: 0.4695\n",
      "Epoch 114/400\n",
      "452/452 [==============================] - 0s 1ms/step - loss: 0.4647 - val_loss: 0.4749\n",
      "Epoch 115/400\n",
      "452/452 [==============================] - 0s 907us/step - loss: 0.4643 - val_loss: 0.4695\n",
      "Epoch 116/400\n",
      "452/452 [==============================] - 0s 1ms/step - loss: 0.4626 - val_loss: 0.4707\n",
      "Epoch 117/400\n",
      "452/452 [==============================] - 0s 1ms/step - loss: 0.4642 - val_loss: 0.4688\n",
      "Epoch 118/400\n",
      "452/452 [==============================] - 0s 982us/step - loss: 0.4620 - val_loss: 0.4744\n",
      "Epoch 119/400\n",
      "452/452 [==============================] - 0s 947us/step - loss: 0.4629 - val_loss: 0.4827\n",
      "Epoch 120/400\n",
      "452/452 [==============================] - 0s 872us/step - loss: 0.4632 - val_loss: 0.4673\n",
      "Epoch 121/400\n",
      "452/452 [==============================] - 0s 942us/step - loss: 0.4621 - val_loss: 0.4676\n",
      "Epoch 122/400\n",
      "452/452 [==============================] - 0s 920us/step - loss: 0.4615 - val_loss: 0.4704\n",
      "Epoch 123/400\n",
      "452/452 [==============================] - 0s 922us/step - loss: 0.4610 - val_loss: 0.4684\n",
      "Epoch 124/400\n",
      "452/452 [==============================] - 0s 949us/step - loss: 0.4622 - val_loss: 0.4656\n",
      "Epoch 125/400\n",
      "452/452 [==============================] - 0s 905us/step - loss: 0.4600 - val_loss: 0.4663\n",
      "Epoch 126/400\n",
      "452/452 [==============================] - 0s 872us/step - loss: 0.4599 - val_loss: 0.4652\n",
      "Epoch 127/400\n",
      "452/452 [==============================] - 0s 942us/step - loss: 0.4601 - val_loss: 0.4700\n",
      "Epoch 128/400\n",
      "452/452 [==============================] - 0s 853us/step - loss: 0.4579 - val_loss: 0.4667\n",
      "Epoch 129/400\n",
      "452/452 [==============================] - 0s 898us/step - loss: 0.4588 - val_loss: 0.4670\n",
      "Epoch 130/400\n",
      "452/452 [==============================] - 0s 854us/step - loss: 0.4587 - val_loss: 0.4735\n",
      "Epoch 131/400\n",
      "452/452 [==============================] - 0s 925us/step - loss: 0.4577 - val_loss: 0.4650\n",
      "Epoch 132/400\n",
      "452/452 [==============================] - 0s 955us/step - loss: 0.4600 - val_loss: 0.4722\n",
      "Epoch 133/400\n",
      "452/452 [==============================] - 0s 1ms/step - loss: 0.4590 - val_loss: 0.4619\n",
      "Epoch 134/400\n",
      "452/452 [==============================] - 1s 1ms/step - loss: 0.4577 - val_loss: 0.4632\n",
      "Epoch 135/400\n",
      "452/452 [==============================] - 0s 973us/step - loss: 0.4558 - val_loss: 0.4624\n",
      "Epoch 136/400\n",
      "452/452 [==============================] - 0s 960us/step - loss: 0.4558 - val_loss: 0.4616\n",
      "Epoch 137/400\n",
      "452/452 [==============================] - 0s 912us/step - loss: 0.4558 - val_loss: 0.4649\n",
      "Epoch 138/400\n",
      "452/452 [==============================] - 0s 902us/step - loss: 0.4576 - val_loss: 0.4618\n",
      "Epoch 139/400\n",
      "452/452 [==============================] - 0s 980us/step - loss: 0.4550 - val_loss: 0.4646\n",
      "Epoch 140/400\n",
      "452/452 [==============================] - 0s 905us/step - loss: 0.4553 - val_loss: 0.4609\n",
      "Epoch 141/400\n",
      "452/452 [==============================] - 0s 1ms/step - loss: 0.4553 - val_loss: 0.4588\n",
      "Epoch 142/400\n",
      "452/452 [==============================] - 1s 1ms/step - loss: 0.4544 - val_loss: 0.4639\n",
      "Epoch 143/400\n",
      "452/452 [==============================] - 0s 982us/step - loss: 0.4539 - val_loss: 0.4583\n",
      "Epoch 144/400\n",
      "452/452 [==============================] - 0s 909us/step - loss: 0.4539 - val_loss: 0.4582\n",
      "Epoch 145/400\n",
      "452/452 [==============================] - 0s 838us/step - loss: 0.4540 - val_loss: 0.4577\n",
      "Epoch 146/400\n",
      "452/452 [==============================] - 0s 902us/step - loss: 0.4536 - val_loss: 0.4569\n",
      "Epoch 147/400\n",
      "452/452 [==============================] - 0s 861us/step - loss: 0.4527 - val_loss: 0.4583\n",
      "Epoch 148/400\n",
      "452/452 [==============================] - 0s 900us/step - loss: 0.4531 - val_loss: 0.4581\n",
      "Epoch 149/400\n",
      "452/452 [==============================] - 0s 865us/step - loss: 0.4528 - val_loss: 0.4566\n",
      "Epoch 150/400\n",
      "452/452 [==============================] - 0s 898us/step - loss: 0.4514 - val_loss: 0.4560\n",
      "Epoch 151/400\n",
      "452/452 [==============================] - 0s 984us/step - loss: 0.4526 - val_loss: 0.4552\n",
      "Epoch 152/400\n",
      "452/452 [==============================] - 0s 938us/step - loss: 0.4538 - val_loss: 0.4556\n",
      "Epoch 153/400\n",
      "452/452 [==============================] - 0s 880us/step - loss: 0.4513 - val_loss: 0.4540\n",
      "Epoch 154/400\n",
      "452/452 [==============================] - 0s 880us/step - loss: 0.4505 - val_loss: 0.4567\n",
      "Epoch 155/400\n",
      "452/452 [==============================] - 0s 982us/step - loss: 0.4504 - val_loss: 0.4749\n",
      "Epoch 156/400\n",
      "452/452 [==============================] - 0s 1ms/step - loss: 0.4504 - val_loss: 0.4583\n",
      "Epoch 157/400\n",
      "452/452 [==============================] - 0s 861us/step - loss: 0.4517 - val_loss: 0.4567\n",
      "Epoch 158/400\n"
     ]
    },
    {
     "name": "stdout",
     "output_type": "stream",
     "text": [
      "452/452 [==============================] - 0s 909us/step - loss: 0.4496 - val_loss: 0.4534\n",
      "Epoch 159/400\n",
      "452/452 [==============================] - 0s 863us/step - loss: 0.4487 - val_loss: 0.4584\n",
      "Epoch 160/400\n",
      "452/452 [==============================] - 0s 852us/step - loss: 0.4495 - val_loss: 0.4523\n",
      "Epoch 161/400\n",
      "452/452 [==============================] - 0s 891us/step - loss: 0.4499 - val_loss: 0.4544\n",
      "Epoch 162/400\n",
      "452/452 [==============================] - 0s 938us/step - loss: 0.4483 - val_loss: 0.4515\n",
      "Epoch 163/400\n",
      "452/452 [==============================] - 0s 856us/step - loss: 0.4481 - val_loss: 0.4496\n",
      "Epoch 164/400\n",
      "452/452 [==============================] - 0s 909us/step - loss: 0.4478 - val_loss: 0.4587\n",
      "Epoch 165/400\n",
      "452/452 [==============================] - 0s 838us/step - loss: 0.4502 - val_loss: 0.4513\n",
      "Epoch 166/400\n",
      "452/452 [==============================] - 0s 969us/step - loss: 0.4502 - val_loss: 0.4505\n",
      "Epoch 167/400\n",
      "452/452 [==============================] - 0s 940us/step - loss: 0.4480 - val_loss: 0.4523\n",
      "Epoch 168/400\n",
      "452/452 [==============================] - 0s 980us/step - loss: 0.4480 - val_loss: 0.4543\n",
      "Epoch 169/400\n",
      "452/452 [==============================] - 0s 940us/step - loss: 0.4490 - val_loss: 0.4507\n",
      "Epoch 170/400\n",
      "452/452 [==============================] - 0s 958us/step - loss: 0.4481 - val_loss: 0.4504\n",
      "Epoch 171/400\n",
      "452/452 [==============================] - 0s 960us/step - loss: 0.4475 - val_loss: 0.4480\n",
      "Epoch 172/400\n",
      "452/452 [==============================] - 0s 874us/step - loss: 0.4476 - val_loss: 0.4498\n",
      "Epoch 173/400\n",
      "452/452 [==============================] - 0s 905us/step - loss: 0.4474 - val_loss: 0.4473\n",
      "Epoch 174/400\n",
      "452/452 [==============================] - 0s 854us/step - loss: 0.4455 - val_loss: 0.4481\n",
      "Epoch 175/400\n",
      "452/452 [==============================] - 0s 942us/step - loss: 0.4465 - val_loss: 0.4520\n",
      "Epoch 176/400\n",
      "452/452 [==============================] - 0s 896us/step - loss: 0.4469 - val_loss: 0.4507\n",
      "Epoch 177/400\n",
      "452/452 [==============================] - 0s 880us/step - loss: 0.4469 - val_loss: 0.4480\n",
      "Epoch 178/400\n",
      "452/452 [==============================] - 0s 1ms/step - loss: 0.4478 - val_loss: 0.4520\n",
      "Epoch 179/400\n",
      "452/452 [==============================] - 0s 896us/step - loss: 0.4467 - val_loss: 0.4611\n",
      "Epoch 180/400\n",
      "452/452 [==============================] - 0s 854us/step - loss: 0.4461 - val_loss: 0.4545\n",
      "Epoch 181/400\n",
      "452/452 [==============================] - 0s 940us/step - loss: 0.4453 - val_loss: 0.4508\n",
      "Epoch 182/400\n",
      "452/452 [==============================] - 0s 900us/step - loss: 0.4447 - val_loss: 0.4508\n",
      "Epoch 183/400\n",
      "452/452 [==============================] - 0s 898us/step - loss: 0.4460 - val_loss: 0.4654\n",
      "Epoch 184/400\n",
      "452/452 [==============================] - 0s 905us/step - loss: 0.4452 - val_loss: 0.4462\n",
      "Epoch 185/400\n",
      "452/452 [==============================] - 0s 866us/step - loss: 0.4443 - val_loss: 0.4473\n",
      "Epoch 186/400\n",
      "452/452 [==============================] - 0s 947us/step - loss: 0.4469 - val_loss: 0.4527\n",
      "Epoch 187/400\n",
      "452/452 [==============================] - 0s 891us/step - loss: 0.4459 - val_loss: 0.4460\n",
      "Epoch 188/400\n",
      "452/452 [==============================] - 0s 902us/step - loss: 0.4452 - val_loss: 0.4502\n",
      "Epoch 189/400\n",
      "452/452 [==============================] - 0s 902us/step - loss: 0.4449 - val_loss: 0.4463\n",
      "Epoch 190/400\n",
      "452/452 [==============================] - 0s 849us/step - loss: 0.4447 - val_loss: 0.4472\n",
      "Epoch 191/400\n",
      "452/452 [==============================] - 0s 909us/step - loss: 0.4433 - val_loss: 0.4599\n",
      "Epoch 192/400\n",
      "452/452 [==============================] - 0s 845us/step - loss: 0.4440 - val_loss: 0.4537\n",
      "Epoch 193/400\n",
      "452/452 [==============================] - 0s 927us/step - loss: 0.4453 - val_loss: 0.4555\n",
      "Epoch 194/400\n",
      "452/452 [==============================] - 0s 991us/step - loss: 0.4442 - val_loss: 0.4514\n",
      "Epoch 195/400\n",
      "452/452 [==============================] - 0s 971us/step - loss: 0.4437 - val_loss: 0.4492\n",
      "Epoch 196/400\n",
      "452/452 [==============================] - 0s 986us/step - loss: 0.4445 - val_loss: 0.4468\n",
      "Epoch 197/400\n",
      "452/452 [==============================] - 0s 872us/step - loss: 0.4444 - val_loss: 0.4446\n",
      "Epoch 198/400\n",
      "452/452 [==============================] - 0s 947us/step - loss: 0.4436 - val_loss: 0.4454\n",
      "Epoch 199/400\n",
      "452/452 [==============================] - 0s 913us/step - loss: 0.4436 - val_loss: 0.4522\n",
      "Epoch 200/400\n",
      "452/452 [==============================] - 0s 869us/step - loss: 0.4441 - val_loss: 0.4473\n",
      "Epoch 201/400\n",
      "452/452 [==============================] - 0s 1ms/step - loss: 0.4426 - val_loss: 0.4473\n",
      "Epoch 202/400\n",
      "452/452 [==============================] - 0s 1ms/step - loss: 0.4422 - val_loss: 0.4464\n",
      "Epoch 203/400\n",
      "452/452 [==============================] - 0s 1ms/step - loss: 0.4428 - val_loss: 0.4490\n",
      "Epoch 204/400\n",
      "452/452 [==============================] - 0s 1ms/step - loss: 0.4421 - val_loss: 0.4522\n",
      "Epoch 205/400\n",
      "452/452 [==============================] - 1s 1ms/step - loss: 0.4436 - val_loss: 0.4520\n",
      "Epoch 206/400\n",
      "452/452 [==============================] - 0s 1ms/step - loss: 0.4420 - val_loss: 0.4469\n",
      "Epoch 207/400\n",
      "452/452 [==============================] - 1s 1ms/step - loss: 0.4426 - val_loss: 0.4467\n",
      "Epoch 208/400\n",
      "452/452 [==============================] - 0s 1ms/step - loss: 0.4423 - val_loss: 0.4482\n",
      "Epoch 209/400\n",
      "452/452 [==============================] - 0s 1ms/step - loss: 0.4420 - val_loss: 0.4494\n",
      "Epoch 210/400\n",
      "452/452 [==============================] - 0s 1ms/step - loss: 0.4415 - val_loss: 0.4446\n",
      "Epoch 211/400\n",
      "452/452 [==============================] - 0s 1ms/step - loss: 0.4428 - val_loss: 0.4421\n",
      "Epoch 212/400\n",
      "452/452 [==============================] - 0s 1ms/step - loss: 0.4418 - val_loss: 0.4481\n",
      "Epoch 213/400\n",
      "452/452 [==============================] - 0s 1ms/step - loss: 0.4417 - val_loss: 0.4439\n",
      "Epoch 214/400\n",
      "452/452 [==============================] - 1s 1ms/step - loss: 0.4409 - val_loss: 0.4434\n",
      "Epoch 215/400\n",
      "452/452 [==============================] - 0s 1ms/step - loss: 0.4422 - val_loss: 0.4433\n",
      "Epoch 216/400\n",
      "452/452 [==============================] - 0s 1ms/step - loss: 0.4406 - val_loss: 0.4444\n",
      "Epoch 217/400\n",
      "452/452 [==============================] - 0s 1ms/step - loss: 0.4426 - val_loss: 0.4538\n",
      "Epoch 218/400\n",
      "452/452 [==============================] - 0s 1ms/step - loss: 0.4416 - val_loss: 0.4416\n",
      "Epoch 219/400\n",
      "452/452 [==============================] - 1s 1ms/step - loss: 0.4405 - val_loss: 0.4412\n",
      "Epoch 220/400\n",
      "452/452 [==============================] - 1s 1ms/step - loss: 0.4410 - val_loss: 0.4450\n",
      "Epoch 221/400\n",
      "452/452 [==============================] - 1s 1ms/step - loss: 0.4423 - val_loss: 0.4513\n",
      "Epoch 222/400\n",
      "452/452 [==============================] - 1s 1ms/step - loss: 0.4417 - val_loss: 0.4545\n",
      "Epoch 223/400\n",
      "452/452 [==============================] - 1s 1ms/step - loss: 0.4402 - val_loss: 0.4414\n",
      "Epoch 224/400\n",
      "452/452 [==============================] - 1s 1ms/step - loss: 0.4398 - val_loss: 0.4422\n",
      "Epoch 225/400\n",
      "452/452 [==============================] - 1s 1ms/step - loss: 0.4401 - val_loss: 0.4428\n",
      "Epoch 226/400\n",
      "452/452 [==============================] - 1s 1ms/step - loss: 0.4419 - val_loss: 0.4545\n",
      "Epoch 227/400\n",
      "452/452 [==============================] - 0s 1ms/step - loss: 0.4415 - val_loss: 0.4524\n",
      "Epoch 228/400\n",
      "452/452 [==============================] - 1s 1ms/step - loss: 0.4426 - val_loss: 0.4415\n",
      "Epoch 229/400\n",
      "452/452 [==============================] - 1s 1ms/step - loss: 0.4400 - val_loss: 0.4417\n",
      "Epoch 230/400\n",
      "452/452 [==============================] - 0s 1ms/step - loss: 0.4397 - val_loss: 0.4439\n",
      "Epoch 231/400\n",
      "452/452 [==============================] - 0s 1ms/step - loss: 0.4403 - val_loss: 0.4421\n",
      "Epoch 232/400\n",
      "452/452 [==============================] - 1s 1ms/step - loss: 0.4400 - val_loss: 0.4421\n",
      "Epoch 233/400\n",
      "452/452 [==============================] - 1s 1ms/step - loss: 0.4409 - val_loss: 0.4422\n",
      "Epoch 234/400\n",
      "452/452 [==============================] - 1s 1ms/step - loss: 0.4398 - val_loss: 0.4523\n",
      "Epoch 235/400\n",
      "452/452 [==============================] - 1s 1ms/step - loss: 0.4412 - val_loss: 0.4628\n",
      "Epoch 236/400\n",
      "452/452 [==============================] - 1s 1ms/step - loss: 0.4404 - val_loss: 0.4494\n"
     ]
    },
    {
     "name": "stdout",
     "output_type": "stream",
     "text": [
      "Epoch 237/400\n",
      "452/452 [==============================] - 0s 1ms/step - loss: 0.4402 - val_loss: 0.4441\n",
      "Epoch 238/400\n",
      "452/452 [==============================] - 1s 1ms/step - loss: 0.4405 - val_loss: 0.4408\n",
      "Epoch 239/400\n",
      "452/452 [==============================] - 0s 1ms/step - loss: 0.4402 - val_loss: 0.4434\n",
      "Epoch 240/400\n",
      "452/452 [==============================] - 1s 1ms/step - loss: 0.4405 - val_loss: 0.4425\n",
      "Epoch 241/400\n",
      "452/452 [==============================] - 0s 1ms/step - loss: 0.4400 - val_loss: 0.4443\n",
      "Epoch 242/400\n",
      "452/452 [==============================] - 0s 1ms/step - loss: 0.4407 - val_loss: 0.4500\n",
      "Epoch 243/400\n",
      "452/452 [==============================] - 0s 1ms/step - loss: 0.4394 - val_loss: 0.4438\n",
      "Epoch 244/400\n",
      "452/452 [==============================] - 0s 1ms/step - loss: 0.4396 - val_loss: 0.4426\n",
      "Epoch 245/400\n",
      "452/452 [==============================] - 0s 1ms/step - loss: 0.4397 - val_loss: 0.4409\n",
      "Epoch 246/400\n",
      "452/452 [==============================] - 0s 1ms/step - loss: 0.4387 - val_loss: 0.4483\n",
      "Epoch 247/400\n",
      "452/452 [==============================] - 0s 1ms/step - loss: 0.4400 - val_loss: 0.4507\n",
      "Epoch 248/400\n",
      "452/452 [==============================] - 0s 1ms/step - loss: 0.4387 - val_loss: 0.4395\n",
      "Epoch 249/400\n",
      "452/452 [==============================] - 0s 1ms/step - loss: 0.4381 - val_loss: 0.4512\n",
      "Epoch 250/400\n",
      "452/452 [==============================] - 0s 1ms/step - loss: 0.4397 - val_loss: 0.4399\n",
      "Epoch 251/400\n",
      "452/452 [==============================] - 0s 1ms/step - loss: 0.4392 - val_loss: 0.4414\n",
      "Epoch 252/400\n",
      "452/452 [==============================] - 0s 1ms/step - loss: 0.4399 - val_loss: 0.4431\n",
      "Epoch 253/400\n",
      "452/452 [==============================] - 0s 1ms/step - loss: 0.4385 - val_loss: 0.4412\n",
      "Epoch 254/400\n",
      "452/452 [==============================] - 0s 1ms/step - loss: 0.4394 - val_loss: 0.4436\n",
      "Epoch 255/400\n",
      "452/452 [==============================] - 1s 1ms/step - loss: 0.4391 - val_loss: 0.4403\n",
      "Epoch 256/400\n",
      "452/452 [==============================] - 1s 1ms/step - loss: 0.4391 - val_loss: 0.4400\n",
      "Epoch 257/400\n",
      "452/452 [==============================] - 1s 1ms/step - loss: 0.4379 - val_loss: 0.4407\n",
      "Epoch 258/400\n",
      "452/452 [==============================] - 0s 1ms/step - loss: 0.4386 - val_loss: 0.4477\n",
      "Epoch 259/400\n",
      "452/452 [==============================] - 0s 1ms/step - loss: 0.4382 - val_loss: 0.4420\n",
      "Epoch 260/400\n",
      "452/452 [==============================] - 0s 1ms/step - loss: 0.4377 - val_loss: 0.4412\n",
      "Epoch 261/400\n",
      "452/452 [==============================] - 1s 1ms/step - loss: 0.4373 - val_loss: 0.4397\n",
      "Epoch 262/400\n",
      "452/452 [==============================] - 1s 1ms/step - loss: 0.4378 - val_loss: 0.4404\n",
      "Epoch 263/400\n",
      "452/452 [==============================] - 1s 1ms/step - loss: 0.4390 - val_loss: 0.4468\n",
      "Epoch 264/400\n",
      "452/452 [==============================] - 0s 1ms/step - loss: 0.4381 - val_loss: 0.4399\n",
      "Epoch 265/400\n",
      "452/452 [==============================] - 1s 1ms/step - loss: 0.4401 - val_loss: 0.4416\n",
      "Epoch 266/400\n",
      "452/452 [==============================] - 0s 1ms/step - loss: 0.4378 - val_loss: 0.4447\n",
      "Epoch 267/400\n",
      "452/452 [==============================] - 0s 1ms/step - loss: 0.4382 - val_loss: 0.4464\n",
      "Epoch 268/400\n",
      "452/452 [==============================] - 0s 1ms/step - loss: 0.4399 - val_loss: 0.4397\n",
      "Epoch 269/400\n",
      "452/452 [==============================] - 0s 1ms/step - loss: 0.4390 - val_loss: 0.4482\n",
      "Epoch 270/400\n",
      "452/452 [==============================] - 1s 1ms/step - loss: 0.4381 - val_loss: 0.4390\n",
      "Epoch 271/400\n",
      "452/452 [==============================] - 0s 1ms/step - loss: 0.4378 - val_loss: 0.4506\n",
      "Epoch 272/400\n",
      "452/452 [==============================] - 1s 1ms/step - loss: 0.4380 - val_loss: 0.4401\n",
      "Epoch 273/400\n",
      "452/452 [==============================] - 0s 1ms/step - loss: 0.4370 - val_loss: 0.4396\n",
      "Epoch 274/400\n",
      "452/452 [==============================] - 0s 1ms/step - loss: 0.4388 - val_loss: 0.4427\n",
      "Epoch 275/400\n",
      "452/452 [==============================] - 0s 1ms/step - loss: 0.4374 - val_loss: 0.4533\n",
      "Epoch 276/400\n",
      "452/452 [==============================] - 1s 1ms/step - loss: 0.4376 - val_loss: 0.4376\n",
      "Epoch 277/400\n",
      "452/452 [==============================] - 0s 1ms/step - loss: 0.4368 - val_loss: 0.4424\n",
      "Epoch 278/400\n",
      "452/452 [==============================] - 0s 1ms/step - loss: 0.4365 - val_loss: 0.4393\n",
      "Epoch 279/400\n",
      "452/452 [==============================] - 0s 1ms/step - loss: 0.4401 - val_loss: 0.4390\n",
      "Epoch 280/400\n",
      "452/452 [==============================] - 1s 1ms/step - loss: 0.4378 - val_loss: 0.4408\n",
      "Epoch 281/400\n",
      "452/452 [==============================] - 0s 1ms/step - loss: 0.4372 - val_loss: 0.4422\n",
      "Epoch 282/400\n",
      "452/452 [==============================] - 0s 1ms/step - loss: 0.4373 - val_loss: 0.4430\n",
      "Epoch 283/400\n",
      "452/452 [==============================] - 0s 1ms/step - loss: 0.4364 - val_loss: 0.4373\n",
      "Epoch 284/400\n",
      "452/452 [==============================] - 1s 1ms/step - loss: 0.4367 - val_loss: 0.4419\n",
      "Epoch 285/400\n",
      "452/452 [==============================] - 1s 1ms/step - loss: 0.4383 - val_loss: 0.4448\n",
      "Epoch 286/400\n",
      "452/452 [==============================] - 1s 1ms/step - loss: 0.4383 - val_loss: 0.4380\n",
      "Epoch 287/400\n",
      "452/452 [==============================] - 0s 1ms/step - loss: 0.4357 - val_loss: 0.4404\n",
      "Epoch 288/400\n",
      "452/452 [==============================] - 0s 1ms/step - loss: 0.4363 - val_loss: 0.4411\n",
      "Epoch 289/400\n",
      "452/452 [==============================] - 1s 1ms/step - loss: 0.4396 - val_loss: 0.4391\n",
      "Epoch 290/400\n",
      "452/452 [==============================] - 0s 1ms/step - loss: 0.4344 - val_loss: 0.4678\n",
      "Epoch 291/400\n",
      "452/452 [==============================] - 1s 1ms/step - loss: 0.4378 - val_loss: 0.4386\n",
      "Epoch 292/400\n",
      "452/452 [==============================] - 0s 1ms/step - loss: 0.4380 - val_loss: 0.4372\n",
      "Epoch 293/400\n",
      "452/452 [==============================] - 1s 1ms/step - loss: 0.4365 - val_loss: 0.4493\n",
      "Epoch 294/400\n",
      "452/452 [==============================] - 1s 1ms/step - loss: 0.4362 - val_loss: 0.4383\n",
      "Epoch 295/400\n",
      "452/452 [==============================] - 1s 1ms/step - loss: 0.4358 - val_loss: 0.4456\n",
      "Epoch 296/400\n",
      "452/452 [==============================] - 1s 1ms/step - loss: 0.4361 - val_loss: 0.4473\n",
      "Epoch 297/400\n",
      "452/452 [==============================] - 1s 1ms/step - loss: 0.4361 - val_loss: 0.4396\n",
      "Epoch 298/400\n",
      "452/452 [==============================] - 0s 1ms/step - loss: 0.4363 - val_loss: 0.4399\n",
      "Epoch 299/400\n",
      "452/452 [==============================] - 1s 1ms/step - loss: 0.4353 - val_loss: 0.4371\n",
      "Epoch 300/400\n",
      "452/452 [==============================] - 0s 1ms/step - loss: 0.4356 - val_loss: 0.4422\n",
      "Epoch 301/400\n",
      "452/452 [==============================] - 1s 1ms/step - loss: 0.4365 - val_loss: 0.4391\n",
      "Epoch 302/400\n",
      "452/452 [==============================] - 0s 1ms/step - loss: 0.4355 - val_loss: 0.4371\n",
      "Epoch 303/400\n",
      "452/452 [==============================] - 1s 1ms/step - loss: 0.4375 - val_loss: 0.4361\n",
      "Epoch 304/400\n",
      "452/452 [==============================] - 0s 1ms/step - loss: 0.4369 - val_loss: 0.4371\n",
      "Epoch 305/400\n",
      "452/452 [==============================] - 0s 1ms/step - loss: 0.4356 - val_loss: 0.4411\n",
      "Epoch 306/400\n",
      "452/452 [==============================] - 1s 1ms/step - loss: 0.4350 - val_loss: 0.4369\n",
      "Epoch 307/400\n",
      "452/452 [==============================] - 0s 1ms/step - loss: 0.4354 - val_loss: 0.4385\n",
      "Epoch 308/400\n",
      "452/452 [==============================] - 0s 1ms/step - loss: 0.4356 - val_loss: 0.4375\n",
      "Epoch 309/400\n",
      "452/452 [==============================] - 1s 1ms/step - loss: 0.4352 - val_loss: 0.4377\n",
      "Epoch 310/400\n",
      "452/452 [==============================] - 1s 1ms/step - loss: 0.4367 - val_loss: 0.4387\n",
      "Epoch 311/400\n",
      "452/452 [==============================] - 1s 1ms/step - loss: 0.4347 - val_loss: 0.4369\n",
      "Epoch 312/400\n",
      "452/452 [==============================] - 0s 1ms/step - loss: 0.4359 - val_loss: 0.4674\n",
      "Epoch 313/400\n",
      "452/452 [==============================] - 0s 1ms/step - loss: 0.4347 - val_loss: 0.4406\n",
      "Epoch 314/400\n",
      "452/452 [==============================] - 0s 1ms/step - loss: 0.4356 - val_loss: 0.4404\n",
      "Epoch 315/400\n",
      "452/452 [==============================] - 0s 1ms/step - loss: 0.4346 - val_loss: 0.4362\n",
      "Epoch 316/400\n"
     ]
    },
    {
     "name": "stdout",
     "output_type": "stream",
     "text": [
      "452/452 [==============================] - 0s 1ms/step - loss: 0.4366 - val_loss: 0.4358\n",
      "Epoch 317/400\n",
      "452/452 [==============================] - 0s 989us/step - loss: 0.4347 - val_loss: 0.4359\n",
      "Epoch 318/400\n",
      "452/452 [==============================] - 0s 1ms/step - loss: 0.4366 - val_loss: 0.4397\n",
      "Epoch 319/400\n",
      "452/452 [==============================] - 0s 1ms/step - loss: 0.4341 - val_loss: 0.4425\n",
      "Epoch 320/400\n",
      "452/452 [==============================] - 0s 1ms/step - loss: 0.4359 - val_loss: 0.4510\n",
      "Epoch 321/400\n",
      "452/452 [==============================] - 0s 1ms/step - loss: 0.4334 - val_loss: 0.4419\n",
      "Epoch 322/400\n",
      "452/452 [==============================] - 0s 947us/step - loss: 0.4332 - val_loss: 0.4521\n",
      "Epoch 323/400\n",
      "452/452 [==============================] - 0s 874us/step - loss: 0.4374 - val_loss: 0.4544\n",
      "Epoch 324/400\n",
      "452/452 [==============================] - 0s 837us/step - loss: 0.4344 - val_loss: 0.4421\n",
      "Epoch 325/400\n",
      "452/452 [==============================] - 0s 896us/step - loss: 0.4340 - val_loss: 0.4386\n",
      "Epoch 326/400\n",
      "452/452 [==============================] - 0s 827us/step - loss: 0.4339 - val_loss: 0.4362\n",
      "Epoch 327/400\n",
      "452/452 [==============================] - 0s 894us/step - loss: 0.4331 - val_loss: 0.4426\n",
      "Epoch 328/400\n",
      "452/452 [==============================] - 0s 830us/step - loss: 0.4349 - val_loss: 0.4380\n",
      "Epoch 329/400\n",
      "452/452 [==============================] - 0s 832us/step - loss: 0.4337 - val_loss: 0.4372\n",
      "Epoch 330/400\n",
      "452/452 [==============================] - 0s 894us/step - loss: 0.4338 - val_loss: 0.4361\n",
      "Epoch 331/400\n",
      "452/452 [==============================] - 0s 900us/step - loss: 0.4329 - val_loss: 0.4382\n",
      "Epoch 332/400\n",
      "452/452 [==============================] - 0s 847us/step - loss: 0.4349 - val_loss: 0.4363\n",
      "Epoch 333/400\n",
      "452/452 [==============================] - 0s 891us/step - loss: 0.4362 - val_loss: 0.4444\n",
      "Epoch 334/400\n",
      "452/452 [==============================] - 0s 858us/step - loss: 0.4346 - val_loss: 0.4424\n",
      "Epoch 335/400\n",
      "452/452 [==============================] - 0s 878us/step - loss: 0.4343 - val_loss: 0.4450\n",
      "Epoch 336/400\n",
      "452/452 [==============================] - 0s 841us/step - loss: 0.4339 - val_loss: 0.4384\n",
      "Epoch 337/400\n",
      "452/452 [==============================] - 0s 838us/step - loss: 0.4356 - val_loss: 0.4363\n",
      "Epoch 338/400\n",
      "452/452 [==============================] - 0s 885us/step - loss: 0.4351 - val_loss: 0.4362\n",
      "Epoch 339/400\n",
      "452/452 [==============================] - 0s 836us/step - loss: 0.4336 - val_loss: 0.4371\n",
      "Epoch 340/400\n",
      "452/452 [==============================] - 0s 843us/step - loss: 0.4341 - val_loss: 0.4445\n",
      "Epoch 341/400\n",
      "452/452 [==============================] - 0s 898us/step - loss: 0.4359 - val_loss: 0.4408\n",
      "Epoch 342/400\n",
      "452/452 [==============================] - 0s 858us/step - loss: 0.4355 - val_loss: 0.4424\n",
      "Epoch 343/400\n",
      "452/452 [==============================] - 0s 907us/step - loss: 0.4343 - val_loss: 0.4474\n",
      "Epoch 344/400\n",
      "452/452 [==============================] - 0s 838us/step - loss: 0.4334 - val_loss: 0.4351\n",
      "Epoch 345/400\n",
      "452/452 [==============================] - 0s 841us/step - loss: 0.4340 - val_loss: 0.4390\n",
      "Epoch 346/400\n",
      "452/452 [==============================] - 0s 891us/step - loss: 0.4358 - val_loss: 0.4404\n",
      "Epoch 347/400\n",
      "452/452 [==============================] - 0s 845us/step - loss: 0.4343 - val_loss: 0.4352\n",
      "Epoch 348/400\n",
      "452/452 [==============================] - 0s 861us/step - loss: 0.4330 - val_loss: 0.4393\n",
      "Epoch 349/400\n",
      "452/452 [==============================] - 0s 887us/step - loss: 0.4329 - val_loss: 0.4396\n",
      "Epoch 350/400\n",
      "452/452 [==============================] - 0s 843us/step - loss: 0.4341 - val_loss: 0.4344\n",
      "Epoch 351/400\n",
      "452/452 [==============================] - 0s 902us/step - loss: 0.4340 - val_loss: 0.4358\n",
      "Epoch 352/400\n",
      "452/452 [==============================] - 0s 876us/step - loss: 0.4330 - val_loss: 0.4414\n",
      "Epoch 353/400\n",
      "452/452 [==============================] - 0s 843us/step - loss: 0.4332 - val_loss: 0.4391\n",
      "Epoch 354/400\n",
      "452/452 [==============================] - 0s 896us/step - loss: 0.4316 - val_loss: 0.4389\n",
      "Epoch 355/400\n",
      "452/452 [==============================] - 0s 841us/step - loss: 0.4331 - val_loss: 0.4396\n",
      "Epoch 356/400\n",
      "452/452 [==============================] - 0s 891us/step - loss: 0.4319 - val_loss: 0.4558\n",
      "Epoch 357/400\n",
      "452/452 [==============================] - 0s 832us/step - loss: 0.4343 - val_loss: 0.4378\n",
      "Epoch 358/400\n",
      "452/452 [==============================] - 0s 847us/step - loss: 0.4322 - val_loss: 0.4398\n",
      "Epoch 359/400\n",
      "452/452 [==============================] - 0s 938us/step - loss: 0.4343 - val_loss: 0.4347\n",
      "Epoch 360/400\n",
      "452/452 [==============================] - 0s 845us/step - loss: 0.4334 - val_loss: 0.4407\n",
      "Epoch 361/400\n",
      "452/452 [==============================] - 0s 867us/step - loss: 0.4325 - val_loss: 0.4428\n",
      "Epoch 362/400\n",
      "452/452 [==============================] - 0s 894us/step - loss: 0.4337 - val_loss: 0.4422\n",
      "Epoch 363/400\n",
      "452/452 [==============================] - 0s 878us/step - loss: 0.4338 - val_loss: 0.4402\n",
      "Epoch 364/400\n",
      "452/452 [==============================] - 0s 1ms/step - loss: 0.4325 - val_loss: 0.4440\n",
      "Epoch 365/400\n",
      "452/452 [==============================] - 0s 874us/step - loss: 0.4350 - val_loss: 0.4409\n",
      "Epoch 366/400\n",
      "452/452 [==============================] - 0s 854us/step - loss: 0.4327 - val_loss: 0.4426\n",
      "Epoch 367/400\n",
      "452/452 [==============================] - 0s 894us/step - loss: 0.4335 - val_loss: 0.4363\n",
      "Epoch 368/400\n",
      "452/452 [==============================] - 0s 869us/step - loss: 0.4334 - val_loss: 0.4406\n",
      "Epoch 369/400\n",
      "452/452 [==============================] - 0s 972us/step - loss: 0.4329 - val_loss: 0.4384\n",
      "Epoch 370/400\n",
      "452/452 [==============================] - 0s 855us/step - loss: 0.4327 - val_loss: 0.4407\n",
      "Epoch 371/400\n",
      "452/452 [==============================] - 0s 931us/step - loss: 0.4329 - val_loss: 0.4338\n",
      "Epoch 372/400\n",
      "452/452 [==============================] - 0s 916us/step - loss: 0.4339 - val_loss: 0.4365\n",
      "Epoch 373/400\n",
      "452/452 [==============================] - 0s 843us/step - loss: 0.4320 - val_loss: 0.4390\n",
      "Epoch 374/400\n",
      "452/452 [==============================] - 0s 1ms/step - loss: 0.4333 - val_loss: 0.4348\n",
      "Epoch 375/400\n",
      "452/452 [==============================] - 1s 1ms/step - loss: 0.4338 - val_loss: 0.4354\n",
      "Epoch 376/400\n",
      "452/452 [==============================] - 1s 1ms/step - loss: 0.4323 - val_loss: 0.4336\n",
      "Epoch 377/400\n",
      "452/452 [==============================] - 1s 1ms/step - loss: 0.4316 - val_loss: 0.4385\n",
      "Epoch 378/400\n",
      "452/452 [==============================] - 1s 1ms/step - loss: 0.4321 - val_loss: 0.4478\n",
      "Epoch 379/400\n",
      "452/452 [==============================] - 0s 940us/step - loss: 0.4328 - val_loss: 0.4400\n",
      "Epoch 380/400\n",
      "452/452 [==============================] - 0s 960us/step - loss: 0.4320 - val_loss: 0.4429\n",
      "Epoch 381/400\n",
      "452/452 [==============================] - 0s 940us/step - loss: 0.4319 - val_loss: 0.4357\n",
      "Epoch 382/400\n",
      "452/452 [==============================] - 0s 962us/step - loss: 0.4341 - val_loss: 0.4406\n",
      "Epoch 383/400\n",
      "452/452 [==============================] - 0s 995us/step - loss: 0.4324 - val_loss: 0.4364\n",
      "Epoch 384/400\n",
      "452/452 [==============================] - 0s 1ms/step - loss: 0.4320 - val_loss: 0.4356\n",
      "Epoch 385/400\n",
      "452/452 [==============================] - 0s 995us/step - loss: 0.4316 - val_loss: 0.4391\n",
      "Epoch 386/400\n",
      "452/452 [==============================] - 0s 933us/step - loss: 0.4321 - val_loss: 0.4382\n",
      "Epoch 387/400\n",
      "452/452 [==============================] - 0s 916us/step - loss: 0.4320 - val_loss: 0.4949\n",
      "Epoch 388/400\n",
      "452/452 [==============================] - 0s 986us/step - loss: 0.4343 - val_loss: 0.4364\n",
      "Epoch 389/400\n",
      "452/452 [==============================] - 0s 944us/step - loss: 0.4311 - val_loss: 0.4398\n",
      "Epoch 390/400\n",
      "452/452 [==============================] - 0s 1ms/step - loss: 0.4329 - val_loss: 0.4401\n",
      "Epoch 391/400\n",
      "452/452 [==============================] - 0s 944us/step - loss: 0.4312 - val_loss: 0.4340\n",
      "Epoch 392/400\n",
      "452/452 [==============================] - 0s 947us/step - loss: 0.4313 - val_loss: 0.4397\n",
      "Epoch 393/400\n",
      "452/452 [==============================] - 0s 989us/step - loss: 0.4299 - val_loss: 0.4426\n",
      "Epoch 394/400\n"
     ]
    },
    {
     "name": "stdout",
     "output_type": "stream",
     "text": [
      "452/452 [==============================] - 0s 993us/step - loss: 0.4330 - val_loss: 0.4329\n",
      "Epoch 395/400\n",
      "452/452 [==============================] - 0s 982us/step - loss: 0.4326 - val_loss: 0.4336\n",
      "Epoch 396/400\n",
      "452/452 [==============================] - 0s 852us/step - loss: 0.4330 - val_loss: 0.4525\n",
      "Epoch 397/400\n",
      "452/452 [==============================] - 0s 857us/step - loss: 0.4330 - val_loss: 0.4346\n",
      "Epoch 398/400\n",
      "452/452 [==============================] - 0s 969us/step - loss: 0.4318 - val_loss: 0.4366\n",
      "Epoch 399/400\n",
      "452/452 [==============================] - 0s 936us/step - loss: 0.4316 - val_loss: 0.4369\n",
      "Epoch 400/400\n",
      "452/452 [==============================] - 0s 953us/step - loss: 0.4315 - val_loss: 0.4397\n"
     ]
    },
    {
     "data": {
      "text/plain": [
       "<tensorflow.python.keras.callbacks.History at 0x23cb1ac7640>"
      ]
     },
     "execution_count": 23,
     "metadata": {},
     "output_type": "execute_result"
    }
   ],
   "source": [
    "model.fit(x=X_train,\n",
    "          y=y_train.values,\n",
    "          validation_data=(X_test,y_test.values),\n",
    "          batch_size=32,epochs=400)\n",
    "\n",
    "#kalau ada error, coba di bagian deklarasi variabel X dan y, belakangnya ditambahin/diilangin values(), yg ini misal e X = data.drop('SalePrice', axis=1).values()"
   ]
  },
  {
   "cell_type": "markdown",
   "metadata": {},
   "source": [
    "hasil di atas bakal beda2 klo di run ulang yak, karna inisialisasi dan updating nilai penimbang dan bias itu random"
   ]
  },
  {
   "cell_type": "markdown",
   "metadata": {},
   "source": [
    "membandingkan loss dengan validation loss"
   ]
  },
  {
   "cell_type": "code",
   "execution_count": 24,
   "metadata": {},
   "outputs": [],
   "source": [
    "losses = pd.DataFrame(model.history.history)"
   ]
  },
  {
   "cell_type": "code",
   "execution_count": 25,
   "metadata": {},
   "outputs": [
    {
     "data": {
      "text/html": [
       "<div>\n",
       "<style scoped>\n",
       "    .dataframe tbody tr th:only-of-type {\n",
       "        vertical-align: middle;\n",
       "    }\n",
       "\n",
       "    .dataframe tbody tr th {\n",
       "        vertical-align: top;\n",
       "    }\n",
       "\n",
       "    .dataframe thead th {\n",
       "        text-align: right;\n",
       "    }\n",
       "</style>\n",
       "<table border=\"1\" class=\"dataframe\">\n",
       "  <thead>\n",
       "    <tr style=\"text-align: right;\">\n",
       "      <th></th>\n",
       "      <th>loss</th>\n",
       "      <th>val_loss</th>\n",
       "    </tr>\n",
       "  </thead>\n",
       "  <tbody>\n",
       "    <tr>\n",
       "      <th>0</th>\n",
       "      <td>2.336239</td>\n",
       "      <td>1.045455</td>\n",
       "    </tr>\n",
       "    <tr>\n",
       "      <th>1</th>\n",
       "      <td>0.962562</td>\n",
       "      <td>0.883230</td>\n",
       "    </tr>\n",
       "    <tr>\n",
       "      <th>2</th>\n",
       "      <td>0.803659</td>\n",
       "      <td>0.733810</td>\n",
       "    </tr>\n",
       "    <tr>\n",
       "      <th>3</th>\n",
       "      <td>0.696442</td>\n",
       "      <td>0.670474</td>\n",
       "    </tr>\n",
       "    <tr>\n",
       "      <th>4</th>\n",
       "      <td>0.661541</td>\n",
       "      <td>0.649681</td>\n",
       "    </tr>\n",
       "    <tr>\n",
       "      <th>...</th>\n",
       "      <td>...</td>\n",
       "      <td>...</td>\n",
       "    </tr>\n",
       "    <tr>\n",
       "      <th>395</th>\n",
       "      <td>0.432976</td>\n",
       "      <td>0.452530</td>\n",
       "    </tr>\n",
       "    <tr>\n",
       "      <th>396</th>\n",
       "      <td>0.433019</td>\n",
       "      <td>0.434643</td>\n",
       "    </tr>\n",
       "    <tr>\n",
       "      <th>397</th>\n",
       "      <td>0.431773</td>\n",
       "      <td>0.436584</td>\n",
       "    </tr>\n",
       "    <tr>\n",
       "      <th>398</th>\n",
       "      <td>0.431601</td>\n",
       "      <td>0.436938</td>\n",
       "    </tr>\n",
       "    <tr>\n",
       "      <th>399</th>\n",
       "      <td>0.431548</td>\n",
       "      <td>0.439748</td>\n",
       "    </tr>\n",
       "  </tbody>\n",
       "</table>\n",
       "<p>400 rows × 2 columns</p>\n",
       "</div>"
      ],
      "text/plain": [
       "         loss  val_loss\n",
       "0    2.336239  1.045455\n",
       "1    0.962562  0.883230\n",
       "2    0.803659  0.733810\n",
       "3    0.696442  0.670474\n",
       "4    0.661541  0.649681\n",
       "..        ...       ...\n",
       "395  0.432976  0.452530\n",
       "396  0.433019  0.434643\n",
       "397  0.431773  0.436584\n",
       "398  0.431601  0.436938\n",
       "399  0.431548  0.439748\n",
       "\n",
       "[400 rows x 2 columns]"
      ]
     },
     "execution_count": 25,
     "metadata": {},
     "output_type": "execute_result"
    }
   ],
   "source": [
    "losses"
   ]
  },
  {
   "cell_type": "code",
   "execution_count": 26,
   "metadata": {},
   "outputs": [
    {
     "data": {
      "text/plain": [
       "<AxesSubplot:>"
      ]
     },
     "execution_count": 26,
     "metadata": {},
     "output_type": "execute_result"
    },
    {
     "data": {
      "image/png": "[encoded data removed]",
      "text/plain": [
       "<Figure size 432x288 with 1 Axes>"
      ]
     },
     "metadata": {
      "needs_background": "light"
     },
     "output_type": "display_data"
    }
   ],
   "source": [
    "losses.plot()"
   ]
  },
  {
   "cell_type": "markdown",
   "metadata": {},
   "source": [
    "Jika garis oranye semakin lama semakin ke atas, itu berarti overfitting. Jika garis biru yang ke atas, berarti underfitting\n",
    "Beberapa cara mengatasinya yaitu mengubuah jumlah epochs, menambah/mengurangi jumlah hidden layer, menambah/mengurangi perceptron/node/neuron."
   ]
  },
  {
   "cell_type": "markdown",
   "metadata": {},
   "source": [
    "### Model Evaluation "
   ]
  },
  {
   "cell_type": "code",
   "execution_count": 27,
   "metadata": {},
   "outputs": [],
   "source": [
    "from sklearn.metrics import mean_squared_error,mean_absolute_error,explained_variance_score"
   ]
  },
  {
   "cell_type": "code",
   "execution_count": 28,
   "metadata": {},
   "outputs": [
    {
     "data": {
      "text/plain": [
       "array([[0.24712763, 0.33333333, 0.07578484, 0.09767782, 0.00238235,\n",
       "        0.00112374],\n",
       "       [0.17579068, 0.62745098, 0.02492117, 0.02775877, 0.03615572,\n",
       "        0.00171913],\n",
       "       [0.17912167, 0.47058824, 0.02131895, 0.02652413, 0.15569383,\n",
       "        0.00439971],\n",
       "       ...,\n",
       "       [0.11674322, 0.82352941, 0.02469675, 0.0268154 , 0.05092632,\n",
       "        0.00187474],\n",
       "       [0.16959766, 0.01960784, 0.02578037, 0.02685689, 0.04492839,\n",
       "        0.00124809],\n",
       "       [0.1200811 , 0.90196078, 0.02225972, 0.02197632, 0.02183357,\n",
       "        0.00229658]])"
      ]
     },
     "execution_count": 28,
     "metadata": {},
     "output_type": "execute_result"
    }
   ],
   "source": [
    "X_test"
   ]
  },
  {
   "cell_type": "code",
   "execution_count": 29,
   "metadata": {},
   "outputs": [],
   "source": [
    "predictions = model.predict(X_test)"
   ]
  },
  {
   "cell_type": "code",
   "execution_count": 30,
   "metadata": {},
   "outputs": [
    {
     "data": {
      "text/plain": [
       "0.4710510269159802"
      ]
     },
     "execution_count": 30,
     "metadata": {},
     "output_type": "execute_result"
    }
   ],
   "source": [
    "mean_absolute_error(y_test,predictions) #mean absolute error antara y test (nilai asli) dengan y prediction"
   ]
  },
  {
   "cell_type": "code",
   "execution_count": 31,
   "metadata": {},
   "outputs": [
    {
     "data": {
      "text/plain": [
       "0.6631354057392025"
      ]
     },
     "execution_count": 31,
     "metadata": {},
     "output_type": "execute_result"
    }
   ],
   "source": [
    "np.sqrt(mean_squared_error(y_test,predictions)) #root mean square error antara y test (nilai asli) dengan y prediction"
   ]
  },
  {
   "cell_type": "code",
   "execution_count": 32,
   "metadata": {},
   "outputs": [
    {
     "data": {
      "text/plain": [
       "0.6747715758344321"
      ]
     },
     "execution_count": 32,
     "metadata": {},
     "output_type": "execute_result"
    }
   ],
   "source": [
    "explained_variance_score(y_test,predictions) #nilai varians yang bisa dijelaskan oleh model"
   ]
  },
  {
   "cell_type": "code",
   "execution_count": 33,
   "metadata": {},
   "outputs": [
    {
     "data": {
      "text/plain": [
       "[<matplotlib.lines.Line2D at 0x23cb316d760>]"
      ]
     },
     "execution_count": 33,
     "metadata": {},
     "output_type": "execute_result"
    },
    {
     "data": {
      "image/png": "[encoded data removed]",
      "text/plain": [
       "<Figure size 432x288 with 1 Axes>"
      ]
     },
     "metadata": {
      "needs_background": "light"
     },
     "output_type": "display_data"
    }
   ],
   "source": [
    "# Our predictions\n",
    "plt.scatter(y_test,predictions)\n",
    "\n",
    "# Perfect predictions\n",
    "plt.plot(y_test,y_test,'r')"
   ]
  },
  {
   "cell_type": "code",
   "execution_count": 34,
   "metadata": {},
   "outputs": [],
   "source": [
    "errors = y_test.values.reshape(6192, 1) - predictions"
   ]
  },
  {
   "cell_type": "code",
   "execution_count": 35,
   "metadata": {},
   "outputs": [
    {
     "name": "stderr",
     "output_type": "stream",
     "text": [
      "C:\\Users\\ASUS\\anaconda3\\lib\\site-packages\\seaborn\\distributions.py:2551: FutureWarning: `distplot` is a deprecated function and will be removed in a future version. Please adapt your code to use either `displot` (a figure-level function with similar flexibility) or `histplot` (an axes-level function for histograms).\n",
      "  warnings.warn(msg, FutureWarning)\n"
     ]
    },
    {
     "data": {
      "text/plain": [
       "<AxesSubplot:ylabel='Density'>"
      ]
     },
     "execution_count": 35,
     "metadata": {},
     "output_type": "execute_result"
    },
    {
     "data": {
      "image/png": "[encoded data removed]",
      "text/plain": [
       "<Figure size 432x288 with 1 Axes>"
      ]
     },
     "metadata": {
      "needs_background": "light"
     },
     "output_type": "display_data"
    }
   ],
   "source": [
    "sns.distplot(errors)"
   ]
  },
  {
   "cell_type": "markdown",
   "metadata": {},
   "source": [
    "### Predicting"
   ]
  },
  {
   "cell_type": "code",
   "execution_count": 36,
   "metadata": {},
   "outputs": [],
   "source": [
    "single_house = df.drop(['SalePrice','Latitude', 'Longitude'],axis=1).iloc[0]\n",
    "#iloc[0] untuk mengambil data pada baris pertama"
   ]
  },
  {
   "cell_type": "code",
   "execution_count": 37,
   "metadata": {},
   "outputs": [
    {
     "data": {
      "text/plain": [
       "MedInc          8.325200\n",
       "HouseAge       41.000000\n",
       "AveRooms        6.984127\n",
       "AveBedrms       1.023810\n",
       "Population    322.000000\n",
       "AveOccup        2.555556\n",
       "Name: 0, dtype: float64"
      ]
     },
     "execution_count": 37,
     "metadata": {},
     "output_type": "execute_result"
    }
   ],
   "source": [
    "single_house"
   ]
  },
  {
   "cell_type": "code",
   "execution_count": 38,
   "metadata": {},
   "outputs": [],
   "source": [
    "single_house = single_house.values.reshape(-1, 6) "
   ]
  },
  {
   "cell_type": "markdown",
   "metadata": {},
   "source": [
    "Kita reshape menjadi bentuk array\n",
    "\n",
    "-1 berarti semua variabel ikut\n",
    "\n",
    "6 mksdnya banyak variabel"
   ]
  },
  {
   "cell_type": "code",
   "execution_count": 39,
   "metadata": {},
   "outputs": [
    {
     "data": {
      "text/plain": [
       "array([[  8.3252    ,  41.        ,   6.98412698,   1.02380952,\n",
       "        322.        ,   2.55555556]])"
      ]
     },
     "execution_count": 39,
     "metadata": {},
     "output_type": "execute_result"
    }
   ],
   "source": [
    "single_house"
   ]
  },
  {
   "cell_type": "code",
   "execution_count": 40,
   "metadata": {},
   "outputs": [],
   "source": [
    "single_house = scaler.transform(single_house) #minmaxscaler"
   ]
  },
  {
   "cell_type": "code",
   "execution_count": 41,
   "metadata": {},
   "outputs": [
    {
     "data": {
      "text/plain": [
       "array([[4.6631284]], dtype=float32)"
      ]
     },
     "execution_count": 41,
     "metadata": {},
     "output_type": "execute_result"
    }
   ],
   "source": [
    "model.predict(single_house)"
   ]
  },
  {
   "cell_type": "code",
   "execution_count": 42,
   "metadata": {},
   "outputs": [
    {
     "data": {
      "text/html": [
       "<div>\n",
       "<style scoped>\n",
       "    .dataframe tbody tr th:only-of-type {\n",
       "        vertical-align: middle;\n",
       "    }\n",
       "\n",
       "    .dataframe tbody tr th {\n",
       "        vertical-align: top;\n",
       "    }\n",
       "\n",
       "    .dataframe thead th {\n",
       "        text-align: right;\n",
       "    }\n",
       "</style>\n",
       "<table border=\"1\" class=\"dataframe\">\n",
       "  <thead>\n",
       "    <tr style=\"text-align: right;\">\n",
       "      <th></th>\n",
       "      <th>MedInc</th>\n",
       "      <th>HouseAge</th>\n",
       "      <th>AveRooms</th>\n",
       "      <th>AveBedrms</th>\n",
       "      <th>Population</th>\n",
       "      <th>AveOccup</th>\n",
       "      <th>Latitude</th>\n",
       "      <th>Longitude</th>\n",
       "      <th>SalePrice</th>\n",
       "    </tr>\n",
       "  </thead>\n",
       "  <tbody>\n",
       "    <tr>\n",
       "      <th>0</th>\n",
       "      <td>8.3252</td>\n",
       "      <td>41.0</td>\n",
       "      <td>6.984127</td>\n",
       "      <td>1.02381</td>\n",
       "      <td>322.0</td>\n",
       "      <td>2.555556</td>\n",
       "      <td>37.88</td>\n",
       "      <td>-122.23</td>\n",
       "      <td>4.526</td>\n",
       "    </tr>\n",
       "  </tbody>\n",
       "</table>\n",
       "</div>"
      ],
      "text/plain": [
       "   MedInc  HouseAge  AveRooms  AveBedrms  Population  AveOccup  Latitude  \\\n",
       "0  8.3252      41.0  6.984127    1.02381       322.0  2.555556     37.88   \n",
       "\n",
       "   Longitude  SalePrice  \n",
       "0    -122.23      4.526  "
      ]
     },
     "execution_count": 42,
     "metadata": {},
     "output_type": "execute_result"
    }
   ],
   "source": [
    "df.head(1)"
   ]
  },
  {
   "cell_type": "markdown",
   "metadata": {},
   "source": [
    "Harga aslinya 4.526, harga yg dipredict 4.3592577\n",
    "mayan lah ya"
   ]
  },
  {
   "cell_type": "markdown",
   "metadata": {},
   "source": [
    " "
   ]
  }
 ],
 "metadata": {
  "kernelspec": {
   "display_name": "Python 3",
   "language": "python",
   "name": "python3"
  },
  "language_info": {
   "codemirror_mode": {
    "name": "ipython",
    "version": 3
   },
   "file_extension": ".py",
   "mimetype": "text/x-python",
   "name": "python",
   "nbconvert_exporter": "python",
   "pygments_lexer": "ipython3",
   "version": "3.8.5"
  }
 },
 "nbformat": 4,
 "nbformat_minor": 4
}
