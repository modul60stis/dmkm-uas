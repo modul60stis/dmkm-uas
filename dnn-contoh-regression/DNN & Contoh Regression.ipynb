{
 "cells": [
  {
   "cell_type": "markdown",
   "metadata": {},
   "source": [
    "# Neural Network"
   ]
  },
  {
   "cell_type": "markdown",
   "metadata": {},
   "source": [
    "### Library yang dibutuhkan"
   ]
  },
  {
   "cell_type": "markdown",
   "metadata": {},
   "source": [
    "Di sini menggunakan Framework Tensorflow\n",
    "Library yang akan digunakan adalah **pandas, numpy, matplotlib, seaborn, sklearn, dan tensorflow**. Jika belum diinstall, silahkan diinstal dahulu dengan mengetikkan `pip install nama-library` pada anaconda prompt.\n",
    "\n",
    "note: Library tensorflow cukup besar sizenya, sekitar 300MB."
   ]
  },
  {
   "cell_type": "code",
   "execution_count": 1,
   "metadata": {},
   "outputs": [],
   "source": [
    "%matplotlib inline\n",
    "import numpy as np\n",
    "import pandas as pd\n",
    "import seaborn as sns\n",
    "import matplotlib.pyplot as plt\n",
    "import tensorflow as tf"
   ]
  },
  {
   "cell_type": "markdown",
   "metadata": {},
   "source": [
    "  "
   ]
  },
  {
   "cell_type": "markdown",
   "metadata": {},
   "source": [
    "### Sedikit penjelasan mengenai Deep Neural Network"
   ]
  },
  {
   "cell_type": "markdown",
   "metadata": {},
   "source": [
    "**Neural network** adalah sebuah model yang berisikan node atau neuron atau perceptron yang saling terhubung dengan dengan node lain melalui koneksi yang disebut penimbang atau weight. Neural network terbagi menjadi tiga bagian utama:\n",
    "Input Layer\n",
    "Hidden Layer\n",
    "Output Layer\n",
    "\n",
    "Deep Neural Network (DNN) adalah perluasan dari metode neural network. Perbedaannya adalah dalam DNN mempunyai **lebih dari dua hidden layer**. \n",
    "<img src=\"figure/dnn.png\">"
   ]
  },
  {
   "cell_type": "markdown",
   "metadata": {},
   "source": [
    "### Activation Function"
   ]
  },
  {
   "cell_type": "markdown",
   "metadata": {},
   "source": [
    "Activation function berfungsi untuk menentukan apakah neuron tersebut harus aktif atau tidak.\n",
    "Activation yang biasanya digunakan:\n",
    "\n",
    "    sigmoid = untuk binary classification\n",
    "    tanh    = untuk binary classification\n",
    "    softmax = untuk categorical classification\n",
    "    ReLU\n",
    "   lainnya bisa dilihat di `https://en.wikipedia.org/wiki/Activation_function`"
   ]
  },
  {
   "cell_type": "markdown",
   "metadata": {},
   "source": [
    " "
   ]
  },
  {
   "cell_type": "markdown",
   "metadata": {},
   "source": [
    "### Loss Function "
   ]
  },
  {
   "cell_type": "markdown",
   "metadata": {},
   "source": [
    "Loss Functioin berfungsi untuk mengukur seberapa besar nilai error yang dihasilkan dari output terhadap nilai aslinya.\n",
    "Loss function yang biasa digunakan adalah `binary_corssentropy`, `categorical_crossentropy` -> untuk klasifikasi. dan `mse` untuk regresi."
   ]
  },
  {
   "cell_type": "markdown",
   "metadata": {},
   "source": [
    "### Backpropagation"
   ]
  },
  {
   "cell_type": "markdown",
   "metadata": {},
   "source": [
    "Mudahnya backpropagation adalah suatu cara untuk menyesuaikan penimbang dan bias yang dihasilkan untuk meminimalisir error pada output.\n",
    "<img src=\"figure/nn.png\">\n",
    "Caranya adalah\n",
    "1. Menghitung nilai error menggunakan loss function\n",
    "2. Hitung gradien dari loss funtion tersebut\n",
    "<img src=\"figure/loss_opt.png\">\n",
    "<img src=\"figure/loss_opt2.png\">\n",
    "3. Update parameter bias dan penimbang dari hasil gradien yang didapatkan\n",
    "\n",
    "nb: belum terlalu paham dengan backpropagation\n",
    "\n",
    "Optimizer yang biasa digunakan adalah `adam`, `rmsprop`\n",
    "\n",
    "Penjelasannya juga bisa dilihat di sini `https://medium.com/@samuelsena/pengenalan-deep-learning-part-3-backpropagation-algorithm-720be9a5fbb8` dan bisa juga search sendiri ya"
   ]
  },
  {
   "cell_type": "markdown",
   "metadata": {},
   "source": [
    "# Contoh 1 Regression"
   ]
  },
  {
   "cell_type": "markdown",
   "metadata": {},
   "source": [
    "Import Data"
   ]
  },
  {
   "cell_type": "code",
   "execution_count": 2,
   "metadata": {},
   "outputs": [],
   "source": [
    "df = pd.read_csv('california_housing_sklearn.csv')"
   ]
  },
  {
   "cell_type": "code",
   "execution_count": 3,
   "metadata": {},
   "outputs": [
    {
     "data": {
      "text/html": [
       "<div>\n",
       "<style scoped>\n",
       "    .dataframe tbody tr th:only-of-type {\n",
       "        vertical-align: middle;\n",
       "    }\n",
       "\n",
       "    .dataframe tbody tr th {\n",
       "        vertical-align: top;\n",
       "    }\n",
       "\n",
       "    .dataframe thead th {\n",
       "        text-align: right;\n",
       "    }\n",
       "</style>\n",
       "<table border=\"1\" class=\"dataframe\">\n",
       "  <thead>\n",
       "    <tr style=\"text-align: right;\">\n",
       "      <th></th>\n",
       "      <th>MedInc</th>\n",
       "      <th>HouseAge</th>\n",
       "      <th>AveRooms</th>\n",
       "      <th>AveBedrms</th>\n",
       "      <th>Population</th>\n",
       "      <th>AveOccup</th>\n",
       "      <th>Latitude</th>\n",
       "      <th>Longitude</th>\n",
       "      <th>SalePrice</th>\n",
       "    </tr>\n",
       "  </thead>\n",
       "  <tbody>\n",
       "    <tr>\n",
       "      <th>0</th>\n",
       "      <td>8.3252</td>\n",
       "      <td>41.0</td>\n",
       "      <td>6.984127</td>\n",
       "      <td>1.023810</td>\n",
       "      <td>322.0</td>\n",
       "      <td>2.555556</td>\n",
       "      <td>37.88</td>\n",
       "      <td>-122.23</td>\n",
       "      <td>4.526</td>\n",
       "    </tr>\n",
       "    <tr>\n",
       "      <th>1</th>\n",
       "      <td>8.3014</td>\n",
       "      <td>21.0</td>\n",
       "      <td>6.238137</td>\n",
       "      <td>0.971880</td>\n",
       "      <td>2401.0</td>\n",
       "      <td>2.109842</td>\n",
       "      <td>37.86</td>\n",
       "      <td>-122.22</td>\n",
       "      <td>3.585</td>\n",
       "    </tr>\n",
       "    <tr>\n",
       "      <th>2</th>\n",
       "      <td>7.2574</td>\n",
       "      <td>52.0</td>\n",
       "      <td>8.288136</td>\n",
       "      <td>1.073446</td>\n",
       "      <td>496.0</td>\n",
       "      <td>2.802260</td>\n",
       "      <td>37.85</td>\n",
       "      <td>-122.24</td>\n",
       "      <td>3.521</td>\n",
       "    </tr>\n",
       "    <tr>\n",
       "      <th>3</th>\n",
       "      <td>5.6431</td>\n",
       "      <td>52.0</td>\n",
       "      <td>5.817352</td>\n",
       "      <td>1.073059</td>\n",
       "      <td>558.0</td>\n",
       "      <td>2.547945</td>\n",
       "      <td>37.85</td>\n",
       "      <td>-122.25</td>\n",
       "      <td>3.413</td>\n",
       "    </tr>\n",
       "    <tr>\n",
       "      <th>4</th>\n",
       "      <td>3.8462</td>\n",
       "      <td>52.0</td>\n",
       "      <td>6.281853</td>\n",
       "      <td>1.081081</td>\n",
       "      <td>565.0</td>\n",
       "      <td>2.181467</td>\n",
       "      <td>37.85</td>\n",
       "      <td>-122.25</td>\n",
       "      <td>3.422</td>\n",
       "    </tr>\n",
       "  </tbody>\n",
       "</table>\n",
       "</div>"
      ],
      "text/plain": [
       "   MedInc  HouseAge  AveRooms  AveBedrms  Population  AveOccup  Latitude  \\\n",
       "0  8.3252      41.0  6.984127   1.023810       322.0  2.555556     37.88   \n",
       "1  8.3014      21.0  6.238137   0.971880      2401.0  2.109842     37.86   \n",
       "2  7.2574      52.0  8.288136   1.073446       496.0  2.802260     37.85   \n",
       "3  5.6431      52.0  5.817352   1.073059       558.0  2.547945     37.85   \n",
       "4  3.8462      52.0  6.281853   1.081081       565.0  2.181467     37.85   \n",
       "\n",
       "   Longitude  SalePrice  \n",
       "0    -122.23      4.526  \n",
       "1    -122.22      3.585  \n",
       "2    -122.24      3.521  \n",
       "3    -122.25      3.413  \n",
       "4    -122.25      3.422  "
      ]
     },
     "execution_count": 3,
     "metadata": {},
     "output_type": "execute_result"
    }
   ],
   "source": [
    "df.head()"
   ]
  },
  {
   "cell_type": "markdown",
   "metadata": {},
   "source": [
    "Kita akan meregresikan SalePrice (Y) dengan variable independent MedInc, HouseAge, AveRooms, AveBedrms, Population, dan AveOccup."
   ]
  },
  {
   "cell_type": "code",
   "execution_count": 4,
   "metadata": {},
   "outputs": [
    {
     "data": {
      "text/plain": [
       "MedInc        0\n",
       "HouseAge      0\n",
       "AveRooms      0\n",
       "AveBedrms     0\n",
       "Population    0\n",
       "AveOccup      0\n",
       "Latitude      0\n",
       "Longitude     0\n",
       "SalePrice     0\n",
       "dtype: int64"
      ]
     },
     "execution_count": 4,
     "metadata": {},
     "output_type": "execute_result"
    }
   ],
   "source": [
    "df.isnull().sum()"
   ]
  },
  {
   "cell_type": "code",
   "execution_count": 5,
   "metadata": {
    "scrolled": true
   },
   "outputs": [
    {
     "data": {
      "text/html": [
       "<div>\n",
       "<style scoped>\n",
       "    .dataframe tbody tr th:only-of-type {\n",
       "        vertical-align: middle;\n",
       "    }\n",
       "\n",
       "    .dataframe tbody tr th {\n",
       "        vertical-align: top;\n",
       "    }\n",
       "\n",
       "    .dataframe thead th {\n",
       "        text-align: right;\n",
       "    }\n",
       "</style>\n",
       "<table border=\"1\" class=\"dataframe\">\n",
       "  <thead>\n",
       "    <tr style=\"text-align: right;\">\n",
       "      <th></th>\n",
       "      <th>count</th>\n",
       "      <th>mean</th>\n",
       "      <th>std</th>\n",
       "      <th>min</th>\n",
       "      <th>25%</th>\n",
       "      <th>50%</th>\n",
       "      <th>75%</th>\n",
       "      <th>max</th>\n",
       "    </tr>\n",
       "  </thead>\n",
       "  <tbody>\n",
       "    <tr>\n",
       "      <th>MedInc</th>\n",
       "      <td>20640.0</td>\n",
       "      <td>3.870671</td>\n",
       "      <td>1.899822</td>\n",
       "      <td>0.499900</td>\n",
       "      <td>2.563400</td>\n",
       "      <td>3.534800</td>\n",
       "      <td>4.743250</td>\n",
       "      <td>15.000100</td>\n",
       "    </tr>\n",
       "    <tr>\n",
       "      <th>HouseAge</th>\n",
       "      <td>20640.0</td>\n",
       "      <td>28.639486</td>\n",
       "      <td>12.585558</td>\n",
       "      <td>1.000000</td>\n",
       "      <td>18.000000</td>\n",
       "      <td>29.000000</td>\n",
       "      <td>37.000000</td>\n",
       "      <td>52.000000</td>\n",
       "    </tr>\n",
       "    <tr>\n",
       "      <th>AveRooms</th>\n",
       "      <td>20640.0</td>\n",
       "      <td>5.429000</td>\n",
       "      <td>2.474173</td>\n",
       "      <td>0.846154</td>\n",
       "      <td>4.440716</td>\n",
       "      <td>5.229129</td>\n",
       "      <td>6.052381</td>\n",
       "      <td>141.909091</td>\n",
       "    </tr>\n",
       "    <tr>\n",
       "      <th>AveBedrms</th>\n",
       "      <td>20640.0</td>\n",
       "      <td>1.096675</td>\n",
       "      <td>0.473911</td>\n",
       "      <td>0.333333</td>\n",
       "      <td>1.006079</td>\n",
       "      <td>1.048780</td>\n",
       "      <td>1.099526</td>\n",
       "      <td>34.066667</td>\n",
       "    </tr>\n",
       "    <tr>\n",
       "      <th>Population</th>\n",
       "      <td>20640.0</td>\n",
       "      <td>1425.476744</td>\n",
       "      <td>1132.462122</td>\n",
       "      <td>3.000000</td>\n",
       "      <td>787.000000</td>\n",
       "      <td>1166.000000</td>\n",
       "      <td>1725.000000</td>\n",
       "      <td>35682.000000</td>\n",
       "    </tr>\n",
       "    <tr>\n",
       "      <th>AveOccup</th>\n",
       "      <td>20640.0</td>\n",
       "      <td>3.070655</td>\n",
       "      <td>10.386050</td>\n",
       "      <td>0.692308</td>\n",
       "      <td>2.429741</td>\n",
       "      <td>2.818116</td>\n",
       "      <td>3.282261</td>\n",
       "      <td>1243.333333</td>\n",
       "    </tr>\n",
       "    <tr>\n",
       "      <th>Latitude</th>\n",
       "      <td>20640.0</td>\n",
       "      <td>35.631861</td>\n",
       "      <td>2.135952</td>\n",
       "      <td>32.540000</td>\n",
       "      <td>33.930000</td>\n",
       "      <td>34.260000</td>\n",
       "      <td>37.710000</td>\n",
       "      <td>41.950000</td>\n",
       "    </tr>\n",
       "    <tr>\n",
       "      <th>Longitude</th>\n",
       "      <td>20640.0</td>\n",
       "      <td>-119.569704</td>\n",
       "      <td>2.003532</td>\n",
       "      <td>-124.350000</td>\n",
       "      <td>-121.800000</td>\n",
       "      <td>-118.490000</td>\n",
       "      <td>-118.010000</td>\n",
       "      <td>-114.310000</td>\n",
       "    </tr>\n",
       "    <tr>\n",
       "      <th>SalePrice</th>\n",
       "      <td>20640.0</td>\n",
       "      <td>2.068558</td>\n",
       "      <td>1.153956</td>\n",
       "      <td>0.149990</td>\n",
       "      <td>1.196000</td>\n",
       "      <td>1.797000</td>\n",
       "      <td>2.647250</td>\n",
       "      <td>5.000010</td>\n",
       "    </tr>\n",
       "  </tbody>\n",
       "</table>\n",
       "</div>"
      ],
      "text/plain": [
       "              count         mean          std         min         25%  \\\n",
       "MedInc      20640.0     3.870671     1.899822    0.499900    2.563400   \n",
       "HouseAge    20640.0    28.639486    12.585558    1.000000   18.000000   \n",
       "AveRooms    20640.0     5.429000     2.474173    0.846154    4.440716   \n",
       "AveBedrms   20640.0     1.096675     0.473911    0.333333    1.006079   \n",
       "Population  20640.0  1425.476744  1132.462122    3.000000  787.000000   \n",
       "AveOccup    20640.0     3.070655    10.386050    0.692308    2.429741   \n",
       "Latitude    20640.0    35.631861     2.135952   32.540000   33.930000   \n",
       "Longitude   20640.0  -119.569704     2.003532 -124.350000 -121.800000   \n",
       "SalePrice   20640.0     2.068558     1.153956    0.149990    1.196000   \n",
       "\n",
       "                    50%          75%           max  \n",
       "MedInc         3.534800     4.743250     15.000100  \n",
       "HouseAge      29.000000    37.000000     52.000000  \n",
       "AveRooms       5.229129     6.052381    141.909091  \n",
       "AveBedrms      1.048780     1.099526     34.066667  \n",
       "Population  1166.000000  1725.000000  35682.000000  \n",
       "AveOccup       2.818116     3.282261   1243.333333  \n",
       "Latitude      34.260000    37.710000     41.950000  \n",
       "Longitude   -118.490000  -118.010000   -114.310000  \n",
       "SalePrice      1.797000     2.647250      5.000010  "
      ]
     },
     "execution_count": 5,
     "metadata": {},
     "output_type": "execute_result"
    }
   ],
   "source": [
    "df.describe().transpose()"
   ]
  },
  {
   "cell_type": "markdown",
   "metadata": {},
   "source": [
    "#### Distribution Plot dari Sale Price"
   ]
  },
  {
   "cell_type": "code",
   "execution_count": 6,
   "metadata": {},
   "outputs": [
    {
     "name": "stderr",
     "output_type": "stream",
     "text": [
      "C:\\Users\\ASUS\\anaconda3\\lib\\site-packages\\seaborn\\distributions.py:2551: FutureWarning: `distplot` is a deprecated function and will be removed in a future version. Please adapt your code to use either `displot` (a figure-level function with similar flexibility) or `histplot` (an axes-level function for histograms).\n",
      "  warnings.warn(msg, FutureWarning)\n"
     ]
    },
    {
     "data": {
      "text/plain": [
       "<AxesSubplot:xlabel='SalePrice', ylabel='Density'>"
      ]
     },
     "execution_count": 6,
     "metadata": {},
     "output_type": "execute_result"
    },
    {
     "data": {
      "image/png": "[encoded data removed]",
      "text/plain": [
       "<Figure size 720x576 with 1 Axes>"
      ]
     },
     "metadata": {
      "needs_background": "light"
     },
     "output_type": "display_data"
    }
   ],
   "source": [
    "plt.figure(figsize=(10,8))\n",
    "sns.distplot(df['SalePrice'])"
   ]
  },
  {
   "cell_type": "markdown",
   "metadata": {},
   "source": [
    "#### Korelasi"
   ]
  },
  {
   "cell_type": "code",
   "execution_count": 7,
   "metadata": {},
   "outputs": [
    {
     "data": {
      "text/html": [
       "<div>\n",
       "<style scoped>\n",
       "    .dataframe tbody tr th:only-of-type {\n",
       "        vertical-align: middle;\n",
       "    }\n",
       "\n",
       "    .dataframe tbody tr th {\n",
       "        vertical-align: top;\n",
       "    }\n",
       "\n",
       "    .dataframe thead th {\n",
       "        text-align: right;\n",
       "    }\n",
       "</style>\n",
       "<table border=\"1\" class=\"dataframe\">\n",
       "  <thead>\n",
       "    <tr style=\"text-align: right;\">\n",
       "      <th></th>\n",
       "      <th>MedInc</th>\n",
       "      <th>HouseAge</th>\n",
       "      <th>AveRooms</th>\n",
       "      <th>AveBedrms</th>\n",
       "      <th>Population</th>\n",
       "      <th>AveOccup</th>\n",
       "      <th>Latitude</th>\n",
       "      <th>Longitude</th>\n",
       "      <th>SalePrice</th>\n",
       "    </tr>\n",
       "  </thead>\n",
       "  <tbody>\n",
       "    <tr>\n",
       "      <th>MedInc</th>\n",
       "      <td>1.000000</td>\n",
       "      <td>-0.119034</td>\n",
       "      <td>0.326895</td>\n",
       "      <td>-0.062040</td>\n",
       "      <td>0.004834</td>\n",
       "      <td>0.018766</td>\n",
       "      <td>-0.079809</td>\n",
       "      <td>-0.015176</td>\n",
       "      <td>0.688075</td>\n",
       "    </tr>\n",
       "    <tr>\n",
       "      <th>HouseAge</th>\n",
       "      <td>-0.119034</td>\n",
       "      <td>1.000000</td>\n",
       "      <td>-0.153277</td>\n",
       "      <td>-0.077747</td>\n",
       "      <td>-0.296244</td>\n",
       "      <td>0.013191</td>\n",
       "      <td>0.011173</td>\n",
       "      <td>-0.108197</td>\n",
       "      <td>0.105623</td>\n",
       "    </tr>\n",
       "    <tr>\n",
       "      <th>AveRooms</th>\n",
       "      <td>0.326895</td>\n",
       "      <td>-0.153277</td>\n",
       "      <td>1.000000</td>\n",
       "      <td>0.847621</td>\n",
       "      <td>-0.072213</td>\n",
       "      <td>-0.004852</td>\n",
       "      <td>0.106389</td>\n",
       "      <td>-0.027540</td>\n",
       "      <td>0.151948</td>\n",
       "    </tr>\n",
       "    <tr>\n",
       "      <th>AveBedrms</th>\n",
       "      <td>-0.062040</td>\n",
       "      <td>-0.077747</td>\n",
       "      <td>0.847621</td>\n",
       "      <td>1.000000</td>\n",
       "      <td>-0.066197</td>\n",
       "      <td>-0.006181</td>\n",
       "      <td>0.069721</td>\n",
       "      <td>0.013344</td>\n",
       "      <td>-0.046701</td>\n",
       "    </tr>\n",
       "    <tr>\n",
       "      <th>Population</th>\n",
       "      <td>0.004834</td>\n",
       "      <td>-0.296244</td>\n",
       "      <td>-0.072213</td>\n",
       "      <td>-0.066197</td>\n",
       "      <td>1.000000</td>\n",
       "      <td>0.069863</td>\n",
       "      <td>-0.108785</td>\n",
       "      <td>0.099773</td>\n",
       "      <td>-0.024650</td>\n",
       "    </tr>\n",
       "    <tr>\n",
       "      <th>AveOccup</th>\n",
       "      <td>0.018766</td>\n",
       "      <td>0.013191</td>\n",
       "      <td>-0.004852</td>\n",
       "      <td>-0.006181</td>\n",
       "      <td>0.069863</td>\n",
       "      <td>1.000000</td>\n",
       "      <td>0.002366</td>\n",
       "      <td>0.002476</td>\n",
       "      <td>-0.023737</td>\n",
       "    </tr>\n",
       "    <tr>\n",
       "      <th>Latitude</th>\n",
       "      <td>-0.079809</td>\n",
       "      <td>0.011173</td>\n",
       "      <td>0.106389</td>\n",
       "      <td>0.069721</td>\n",
       "      <td>-0.108785</td>\n",
       "      <td>0.002366</td>\n",
       "      <td>1.000000</td>\n",
       "      <td>-0.924664</td>\n",
       "      <td>-0.144160</td>\n",
       "    </tr>\n",
       "    <tr>\n",
       "      <th>Longitude</th>\n",
       "      <td>-0.015176</td>\n",
       "      <td>-0.108197</td>\n",
       "      <td>-0.027540</td>\n",
       "      <td>0.013344</td>\n",
       "      <td>0.099773</td>\n",
       "      <td>0.002476</td>\n",
       "      <td>-0.924664</td>\n",
       "      <td>1.000000</td>\n",
       "      <td>-0.045967</td>\n",
       "    </tr>\n",
       "    <tr>\n",
       "      <th>SalePrice</th>\n",
       "      <td>0.688075</td>\n",
       "      <td>0.105623</td>\n",
       "      <td>0.151948</td>\n",
       "      <td>-0.046701</td>\n",
       "      <td>-0.024650</td>\n",
       "      <td>-0.023737</td>\n",
       "      <td>-0.144160</td>\n",
       "      <td>-0.045967</td>\n",
       "      <td>1.000000</td>\n",
       "    </tr>\n",
       "  </tbody>\n",
       "</table>\n",
       "</div>"
      ],
      "text/plain": [
       "              MedInc  HouseAge  AveRooms  AveBedrms  Population  AveOccup  \\\n",
       "MedInc      1.000000 -0.119034  0.326895  -0.062040    0.004834  0.018766   \n",
       "HouseAge   -0.119034  1.000000 -0.153277  -0.077747   -0.296244  0.013191   \n",
       "AveRooms    0.326895 -0.153277  1.000000   0.847621   -0.072213 -0.004852   \n",
       "AveBedrms  -0.062040 -0.077747  0.847621   1.000000   -0.066197 -0.006181   \n",
       "Population  0.004834 -0.296244 -0.072213  -0.066197    1.000000  0.069863   \n",
       "AveOccup    0.018766  0.013191 -0.004852  -0.006181    0.069863  1.000000   \n",
       "Latitude   -0.079809  0.011173  0.106389   0.069721   -0.108785  0.002366   \n",
       "Longitude  -0.015176 -0.108197 -0.027540   0.013344    0.099773  0.002476   \n",
       "SalePrice   0.688075  0.105623  0.151948  -0.046701   -0.024650 -0.023737   \n",
       "\n",
       "            Latitude  Longitude  SalePrice  \n",
       "MedInc     -0.079809  -0.015176   0.688075  \n",
       "HouseAge    0.011173  -0.108197   0.105623  \n",
       "AveRooms    0.106389  -0.027540   0.151948  \n",
       "AveBedrms   0.069721   0.013344  -0.046701  \n",
       "Population -0.108785   0.099773  -0.024650  \n",
       "AveOccup    0.002366   0.002476  -0.023737  \n",
       "Latitude    1.000000  -0.924664  -0.144160  \n",
       "Longitude  -0.924664   1.000000  -0.045967  \n",
       "SalePrice  -0.144160  -0.045967   1.000000  "
      ]
     },
     "execution_count": 7,
     "metadata": {},
     "output_type": "execute_result"
    }
   ],
   "source": [
    "df.corr()"
   ]
  },
  {
   "cell_type": "code",
   "execution_count": 8,
   "metadata": {},
   "outputs": [
    {
     "data": {
      "text/plain": [
       "Latitude     -0.144160\n",
       "AveBedrms    -0.046701\n",
       "Longitude    -0.045967\n",
       "Population   -0.024650\n",
       "AveOccup     -0.023737\n",
       "HouseAge      0.105623\n",
       "AveRooms      0.151948\n",
       "MedInc        0.688075\n",
       "SalePrice     1.000000\n",
       "Name: SalePrice, dtype: float64"
      ]
     },
     "execution_count": 8,
     "metadata": {},
     "output_type": "execute_result"
    }
   ],
   "source": [
    "df.corr()['SalePrice'].sort_values()"
   ]
  },
  {
   "cell_type": "markdown",
   "metadata": {},
   "source": [
    "#### Scatter Plot"
   ]
  },
  {
   "cell_type": "code",
   "execution_count": 9,
   "metadata": {},
   "outputs": [
    {
     "data": {
      "text/plain": [
       "<AxesSubplot:xlabel='AveRooms', ylabel='SalePrice'>"
      ]
     },
     "execution_count": 9,
     "metadata": {},
     "output_type": "execute_result"
    },
    {
     "data": {
      "image/png": "[encoded data removed]",
      "text/plain": [
       "<Figure size 432x288 with 1 Axes>"
      ]
     },
     "metadata": {
      "needs_background": "light"
     },
     "output_type": "display_data"
    }
   ],
   "source": [
    "sns.scatterplot(x='AveRooms', y='SalePrice', data=df)"
   ]
  },
  {
   "cell_type": "code",
   "execution_count": 10,
   "metadata": {},
   "outputs": [
    {
     "data": {
      "text/plain": [
       "<AxesSubplot:xlabel='Longitude', ylabel='Latitude'>"
      ]
     },
     "execution_count": 10,
     "metadata": {},
     "output_type": "execute_result"
    },
    {
     "data": {
      "image/png": "[encoded data removed]",
      "text/plain": [
       "<Figure size 432x288 with 1 Axes>"
      ]
     },
     "metadata": {
      "needs_background": "light"
     },
     "output_type": "display_data"
    }
   ],
   "source": [
    "sns.scatterplot(x='Longitude', y='Latitude', data=df, edgecolor=None, alpha=0.2, hue='SalePrice')"
   ]
  },
  {
   "cell_type": "markdown",
   "metadata": {},
   "source": [
    "### Creating a model"
   ]
  },
  {
   "cell_type": "code",
   "execution_count": 11,
   "metadata": {},
   "outputs": [],
   "source": [
    "data=df.drop(['Longitude', 'Latitude'], axis=1) #Membuang variabel Longitude dan Latitude #axis=1 untuk kolom, axis=0 untuk baris"
   ]
  },
  {
   "cell_type": "code",
   "execution_count": 12,
   "metadata": {},
   "outputs": [
    {
     "data": {
      "text/html": [
       "<div>\n",
       "<style scoped>\n",
       "    .dataframe tbody tr th:only-of-type {\n",
       "        vertical-align: middle;\n",
       "    }\n",
       "\n",
       "    .dataframe tbody tr th {\n",
       "        vertical-align: top;\n",
       "    }\n",
       "\n",
       "    .dataframe thead th {\n",
       "        text-align: right;\n",
       "    }\n",
       "</style>\n",
       "<table border=\"1\" class=\"dataframe\">\n",
       "  <thead>\n",
       "    <tr style=\"text-align: right;\">\n",
       "      <th></th>\n",
       "      <th>MedInc</th>\n",
       "      <th>HouseAge</th>\n",
       "      <th>AveRooms</th>\n",
       "      <th>AveBedrms</th>\n",
       "      <th>Population</th>\n",
       "      <th>AveOccup</th>\n",
       "      <th>SalePrice</th>\n",
       "    </tr>\n",
       "  </thead>\n",
       "  <tbody>\n",
       "    <tr>\n",
       "      <th>0</th>\n",
       "      <td>8.3252</td>\n",
       "      <td>41.0</td>\n",
       "      <td>6.984127</td>\n",
       "      <td>1.023810</td>\n",
       "      <td>322.0</td>\n",
       "      <td>2.555556</td>\n",
       "      <td>4.526</td>\n",
       "    </tr>\n",
       "    <tr>\n",
       "      <th>1</th>\n",
       "      <td>8.3014</td>\n",
       "      <td>21.0</td>\n",
       "      <td>6.238137</td>\n",
       "      <td>0.971880</td>\n",
       "      <td>2401.0</td>\n",
       "      <td>2.109842</td>\n",
       "      <td>3.585</td>\n",
       "    </tr>\n",
       "    <tr>\n",
       "      <th>2</th>\n",
       "      <td>7.2574</td>\n",
       "      <td>52.0</td>\n",
       "      <td>8.288136</td>\n",
       "      <td>1.073446</td>\n",
       "      <td>496.0</td>\n",
       "      <td>2.802260</td>\n",
       "      <td>3.521</td>\n",
       "    </tr>\n",
       "    <tr>\n",
       "      <th>3</th>\n",
       "      <td>5.6431</td>\n",
       "      <td>52.0</td>\n",
       "      <td>5.817352</td>\n",
       "      <td>1.073059</td>\n",
       "      <td>558.0</td>\n",
       "      <td>2.547945</td>\n",
       "      <td>3.413</td>\n",
       "    </tr>\n",
       "    <tr>\n",
       "      <th>4</th>\n",
       "      <td>3.8462</td>\n",
       "      <td>52.0</td>\n",
       "      <td>6.281853</td>\n",
       "      <td>1.081081</td>\n",
       "      <td>565.0</td>\n",
       "      <td>2.181467</td>\n",
       "      <td>3.422</td>\n",
       "    </tr>\n",
       "  </tbody>\n",
       "</table>\n",
       "</div>"
      ],
      "text/plain": [
       "   MedInc  HouseAge  AveRooms  AveBedrms  Population  AveOccup  SalePrice\n",
       "0  8.3252      41.0  6.984127   1.023810       322.0  2.555556      4.526\n",
       "1  8.3014      21.0  6.238137   0.971880      2401.0  2.109842      3.585\n",
       "2  7.2574      52.0  8.288136   1.073446       496.0  2.802260      3.521\n",
       "3  5.6431      52.0  5.817352   1.073059       558.0  2.547945      3.413\n",
       "4  3.8462      52.0  6.281853   1.081081       565.0  2.181467      3.422"
      ]
     },
     "execution_count": 12,
     "metadata": {},
     "output_type": "execute_result"
    }
   ],
   "source": [
    "data.head()"
   ]
  },
  {
   "cell_type": "code",
   "execution_count": 13,
   "metadata": {},
   "outputs": [],
   "source": [
    "X = data.drop('SalePrice', axis=1).values\n",
    "y = data['SalePrice']"
   ]
  },
  {
   "cell_type": "code",
   "execution_count": 14,
   "metadata": {},
   "outputs": [],
   "source": [
    "from sklearn.model_selection import train_test_split"
   ]
  },
  {
   "cell_type": "code",
   "execution_count": 15,
   "metadata": {},
   "outputs": [],
   "source": [
    "#Split data menjadi data training dan testing\n",
    "\n",
    "X_train, X_test, y_train, y_test = train_test_split(X,y,test_size=0.3,random_state=221810445)"
   ]
  },
  {
   "cell_type": "markdown",
   "metadata": {},
   "source": [
    "#### Normalizing (MinMaxScaler)"
   ]
  },
  {
   "cell_type": "code",
   "execution_count": 16,
   "metadata": {},
   "outputs": [],
   "source": [
    "from sklearn.preprocessing import MinMaxScaler"
   ]
  },
  {
   "cell_type": "code",
   "execution_count": 17,
   "metadata": {},
   "outputs": [],
   "source": [
    "scaler = MinMaxScaler()"
   ]
  },
  {
   "cell_type": "code",
   "execution_count": 18,
   "metadata": {},
   "outputs": [],
   "source": [
    "X_train= scaler.fit_transform(X_train)"
   ]
  },
  {
   "cell_type": "code",
   "execution_count": 19,
   "metadata": {},
   "outputs": [],
   "source": [
    "X_test = scaler.transform(X_test)"
   ]
  },
  {
   "cell_type": "code",
   "execution_count": 20,
   "metadata": {},
   "outputs": [
    {
     "data": {
      "text/plain": [
       "(14448, 6)"
      ]
     },
     "execution_count": 20,
     "metadata": {},
     "output_type": "execute_result"
    }
   ],
   "source": [
    "X_train.shape #ada 6 kolom dan 14449 baris"
   ]
  },
  {
   "cell_type": "markdown",
   "metadata": {},
   "source": [
    "### Creating Model"
   ]
  },
  {
   "cell_type": "code",
   "execution_count": 21,
   "metadata": {},
   "outputs": [],
   "source": [
    "from tensorflow.keras.models import Sequential\n",
    "from tensorflow.keras.layers import Dense, Activation\n",
    "from tensorflow.keras.optimizers import Adam"
   ]
  },
  {
   "cell_type": "code",
   "execution_count": 22,
   "metadata": {},
   "outputs": [],
   "source": [
    "model = Sequential()\n",
    "\n",
    "model.add(Dense(6,activation='relu')) #input layer\n",
    "model.add(Dense(6,activation='relu')) #hidden layer\n",
    "model.add(Dense(1)) #output layer\n",
    "\n",
    "model.compile(optimizer='adam',loss='mse') "
   ]
  },
  {
   "cell_type": "markdown",
   "metadata": {},
   "source": [
    "Banyaknya hidden layer itu tidak ada patokannya, akan tetapi semakin rumit permasalahan, semakin banyak hidden layer. \n",
    "`https://stats.stackexchange.com/questions/181/how-to-choose-the-number-of-hidden-layers-and-nodes-in-a-feedforward-neural-netw`"
   ]
  },
  {
   "cell_type": "markdown",
   "metadata": {},
   "source": [
    "### Training Model "
   ]
  },
  {
   "cell_type": "markdown",
   "metadata": {},
   "source": [
    "`batch size` adalah jumlah batch datanya (jadi datanya dipecah menjadi beberapa batch), semakin sedikit jumlah batch semakin lama runningnya. Batch berguna untuk data yang berukuran besar. Jumlah batch biasanya 2^n.\n",
    "\n",
    "`epochs` adalah iterasi untuk update penimbang dan bias. 1 epoch sama dengan menjalankan network dari input sampai ke output. epoch ke 2 (iterasi ke-2) meng-update penimbang dan bias kemudian menjalankan networknya lagi, dst. Standarnya berapa? kira-kira aja wkwkwk nnti diganti2 aja jumlahnya"
   ]
  },
  {
   "cell_type": "code",
   "execution_count": 23,
   "metadata": {},
   "outputs": [
    {
     "name": "stdout",
     "output_type": "stream",
     "text": [
      "Epoch 1/150\n",
      "452/452 [==============================] - 1s 2ms/step - loss: 2.5296 - val_loss: 1.2579\n",
      "Epoch 2/150\n",
      "452/452 [==============================] - 0s 1ms/step - loss: 1.0529 - val_loss: 0.8099\n",
      "Epoch 3/150\n",
      "452/452 [==============================] - 1s 1ms/step - loss: 0.6999 - val_loss: 0.6442\n",
      "Epoch 4/150\n",
      "452/452 [==============================] - 0s 1ms/step - loss: 0.6446 - val_loss: 0.6298\n",
      "Epoch 5/150\n",
      "452/452 [==============================] - 1s 1ms/step - loss: 0.6380 - val_loss: 0.6333\n",
      "Epoch 6/150\n",
      "452/452 [==============================] - 0s 1ms/step - loss: 0.6361 - val_loss: 0.6253\n",
      "Epoch 7/150\n",
      "452/452 [==============================] - 1s 1ms/step - loss: 0.6339 - val_loss: 0.6257\n",
      "Epoch 8/150\n",
      "452/452 [==============================] - 1s 1ms/step - loss: 0.6325 - val_loss: 0.6233\n",
      "Epoch 9/150\n",
      "452/452 [==============================] - 1s 1ms/step - loss: 0.6317 - val_loss: 0.6211\n",
      "Epoch 10/150\n",
      "452/452 [==============================] - 0s 1ms/step - loss: 0.6295 - val_loss: 0.6204\n",
      "Epoch 11/150\n",
      "452/452 [==============================] - 1s 1ms/step - loss: 0.6290 - val_loss: 0.6208\n",
      "Epoch 12/150\n",
      "452/452 [==============================] - 0s 1ms/step - loss: 0.6289 - val_loss: 0.6194\n",
      "Epoch 13/150\n",
      "452/452 [==============================] - 1s 1ms/step - loss: 0.6277 - val_loss: 0.6163\n",
      "Epoch 14/150\n",
      "452/452 [==============================] - 0s 1ms/step - loss: 0.6257 - val_loss: 0.6155\n",
      "Epoch 15/150\n",
      "452/452 [==============================] - 0s 1ms/step - loss: 0.6253 - val_loss: 0.6151\n",
      "Epoch 16/150\n",
      "452/452 [==============================] - 1s 1ms/step - loss: 0.6240 - val_loss: 0.6141\n",
      "Epoch 17/150\n",
      "452/452 [==============================] - 0s 1ms/step - loss: 0.6241 - val_loss: 0.6137\n",
      "Epoch 18/150\n",
      "452/452 [==============================] - 1s 1ms/step - loss: 0.6226 - val_loss: 0.6123\n",
      "Epoch 19/150\n",
      "452/452 [==============================] - 0s 1ms/step - loss: 0.6206 - val_loss: 0.6121\n",
      "Epoch 20/150\n",
      "452/452 [==============================] - 1s 1ms/step - loss: 0.6211 - val_loss: 0.6113\n",
      "Epoch 21/150\n",
      "452/452 [==============================] - 0s 1ms/step - loss: 0.6196 - val_loss: 0.6111\n",
      "Epoch 22/150\n",
      "452/452 [==============================] - 1s 1ms/step - loss: 0.6189 - val_loss: 0.6096\n",
      "Epoch 23/150\n",
      "452/452 [==============================] - 1s 1ms/step - loss: 0.6179 - val_loss: 0.6082\n",
      "Epoch 24/150\n",
      "452/452 [==============================] - 1s 1ms/step - loss: 0.6165 - val_loss: 0.6148\n",
      "Epoch 25/150\n",
      "452/452 [==============================] - 0s 1ms/step - loss: 0.6161 - val_loss: 0.6071\n",
      "Epoch 26/150\n",
      "452/452 [==============================] - 1s 1ms/step - loss: 0.6145 - val_loss: 0.6047\n",
      "Epoch 27/150\n",
      "452/452 [==============================] - 0s 1ms/step - loss: 0.6137 - val_loss: 0.6066\n",
      "Epoch 28/150\n",
      "452/452 [==============================] - 1s 1ms/step - loss: 0.6110 - val_loss: 0.6054\n",
      "Epoch 29/150\n",
      "452/452 [==============================] - 0s 1ms/step - loss: 0.6098 - val_loss: 0.5999\n",
      "Epoch 30/150\n",
      "452/452 [==============================] - 1s 1ms/step - loss: 0.6083 - val_loss: 0.5982\n",
      "Epoch 31/150\n",
      "452/452 [==============================] - 0s 1ms/step - loss: 0.6053 - val_loss: 0.5981\n",
      "Epoch 32/150\n",
      "452/452 [==============================] - 1s 1ms/step - loss: 0.6039 - val_loss: 0.5997\n",
      "Epoch 33/150\n",
      "452/452 [==============================] - 0s 1ms/step - loss: 0.6010 - val_loss: 0.5923\n",
      "Epoch 34/150\n",
      "452/452 [==============================] - 1s 1ms/step - loss: 0.5979 - val_loss: 0.5917\n",
      "Epoch 35/150\n",
      "452/452 [==============================] - 0s 1ms/step - loss: 0.5963 - val_loss: 0.5879\n",
      "Epoch 36/150\n",
      "452/452 [==============================] - 0s 1ms/step - loss: 0.5928 - val_loss: 0.5860\n",
      "Epoch 37/150\n",
      "452/452 [==============================] - 1s 1ms/step - loss: 0.5904 - val_loss: 0.5860\n",
      "Epoch 38/150\n",
      "452/452 [==============================] - 0s 1ms/step - loss: 0.5871 - val_loss: 0.5816\n",
      "Epoch 39/150\n",
      "452/452 [==============================] - 1s 1ms/step - loss: 0.5850 - val_loss: 0.5795\n",
      "Epoch 40/150\n",
      "452/452 [==============================] - 0s 1ms/step - loss: 0.5830 - val_loss: 0.5819\n",
      "Epoch 41/150\n",
      "452/452 [==============================] - 1s 1ms/step - loss: 0.5779 - val_loss: 0.5832\n",
      "Epoch 42/150\n",
      "452/452 [==============================] - 0s 1ms/step - loss: 0.5755 - val_loss: 0.5732\n",
      "Epoch 43/150\n",
      "452/452 [==============================] - 1s 1ms/step - loss: 0.5732 - val_loss: 0.5712\n",
      "Epoch 44/150\n",
      "452/452 [==============================] - 1s 1ms/step - loss: 0.5700 - val_loss: 0.5701\n",
      "Epoch 45/150\n",
      "452/452 [==============================] - 1s 1ms/step - loss: 0.5672 - val_loss: 0.5680\n",
      "Epoch 46/150\n",
      "452/452 [==============================] - 0s 1ms/step - loss: 0.5644 - val_loss: 0.5675\n",
      "Epoch 47/150\n",
      "452/452 [==============================] - 1s 1ms/step - loss: 0.5614 - val_loss: 0.5718\n",
      "Epoch 48/150\n",
      "452/452 [==============================] - 0s 1ms/step - loss: 0.5608 - val_loss: 0.5698\n",
      "Epoch 49/150\n",
      "452/452 [==============================] - 1s 1ms/step - loss: 0.5583 - val_loss: 0.5620\n",
      "Epoch 50/150\n",
      "452/452 [==============================] - 0s 1ms/step - loss: 0.5558 - val_loss: 0.5661\n",
      "Epoch 51/150\n",
      "452/452 [==============================] - 1s 1ms/step - loss: 0.5556 - val_loss: 0.5630\n",
      "Epoch 52/150\n",
      "452/452 [==============================] - 0s 1ms/step - loss: 0.5558 - val_loss: 0.5652\n",
      "Epoch 53/150\n",
      "452/452 [==============================] - 1s 1ms/step - loss: 0.5529 - val_loss: 0.5611\n",
      "Epoch 54/150\n",
      "452/452 [==============================] - 1s 1ms/step - loss: 0.5538 - val_loss: 0.5631\n",
      "Epoch 55/150\n",
      "452/452 [==============================] - 0s 1ms/step - loss: 0.5524 - val_loss: 0.5601\n",
      "Epoch 56/150\n",
      "452/452 [==============================] - 0s 1ms/step - loss: 0.5515 - val_loss: 0.5600\n",
      "Epoch 57/150\n",
      "452/452 [==============================] - 0s 1ms/step - loss: 0.5505 - val_loss: 0.5592\n",
      "Epoch 58/150\n",
      "452/452 [==============================] - 0s 1ms/step - loss: 0.5497 - val_loss: 0.5635\n",
      "Epoch 59/150\n",
      "452/452 [==============================] - 0s 1ms/step - loss: 0.5494 - val_loss: 0.5624\n",
      "Epoch 60/150\n",
      "452/452 [==============================] - 1s 1ms/step - loss: 0.5490 - val_loss: 0.5624\n",
      "Epoch 61/150\n",
      "452/452 [==============================] - 0s 1ms/step - loss: 0.5482 - val_loss: 0.5633\n",
      "Epoch 62/150\n",
      "452/452 [==============================] - 1s 1ms/step - loss: 0.5488 - val_loss: 0.5590\n",
      "Epoch 63/150\n",
      "452/452 [==============================] - 0s 1ms/step - loss: 0.5476 - val_loss: 0.5618\n",
      "Epoch 64/150\n",
      "452/452 [==============================] - 1s 1ms/step - loss: 0.5486 - val_loss: 0.5638\n",
      "Epoch 65/150\n",
      "452/452 [==============================] - 0s 865us/step - loss: 0.5478 - val_loss: 0.5629\n",
      "Epoch 66/150\n",
      "452/452 [==============================] - 0s 969us/step - loss: 0.5487 - val_loss: 0.5636\n",
      "Epoch 67/150\n",
      "452/452 [==============================] - 1s 1ms/step - loss: 0.5475 - val_loss: 0.5612\n",
      "Epoch 68/150\n",
      "452/452 [==============================] - 1s 1ms/step - loss: 0.5466 - val_loss: 0.5600\n",
      "Epoch 69/150\n",
      "452/452 [==============================] - 0s 1ms/step - loss: 0.5469 - val_loss: 0.5633\n",
      "Epoch 70/150\n",
      "452/452 [==============================] - 1s 1ms/step - loss: 0.5457 - val_loss: 0.5676\n",
      "Epoch 71/150\n",
      "452/452 [==============================] - 0s 960us/step - loss: 0.5462 - val_loss: 0.5622\n",
      "Epoch 72/150\n",
      "452/452 [==============================] - 0s 980us/step - loss: 0.5447 - val_loss: 0.5607\n",
      "Epoch 73/150\n",
      "452/452 [==============================] - 0s 995us/step - loss: 0.5450 - val_loss: 0.5574\n",
      "Epoch 74/150\n",
      "452/452 [==============================] - 0s 925us/step - loss: 0.5447 - val_loss: 0.5590\n",
      "Epoch 75/150\n",
      "452/452 [==============================] - 0s 989us/step - loss: 0.5439 - val_loss: 0.5676\n",
      "Epoch 76/150\n",
      "452/452 [==============================] - 0s 1ms/step - loss: 0.5448 - val_loss: 0.5575\n",
      "Epoch 77/150\n",
      "452/452 [==============================] - 1s 1ms/step - loss: 0.5447 - val_loss: 0.5571\n",
      "Epoch 78/150\n",
      "452/452 [==============================] - 0s 1ms/step - loss: 0.5436 - val_loss: 0.5556\n",
      "Epoch 79/150\n",
      "452/452 [==============================] - 0s 929us/step - loss: 0.5433 - val_loss: 0.5581\n",
      "Epoch 80/150\n",
      "452/452 [==============================] - 0s 911us/step - loss: 0.5433 - val_loss: 0.5619\n",
      "Epoch 81/150\n"
     ]
    },
    {
     "name": "stdout",
     "output_type": "stream",
     "text": [
      "452/452 [==============================] - 0s 953us/step - loss: 0.5443 - val_loss: 0.5563\n",
      "Epoch 82/150\n",
      "452/452 [==============================] - 0s 1ms/step - loss: 0.5445 - val_loss: 0.5577\n",
      "Epoch 83/150\n",
      "452/452 [==============================] - 0s 1ms/step - loss: 0.5427 - val_loss: 0.5546\n",
      "Epoch 84/150\n",
      "452/452 [==============================] - 0s 997us/step - loss: 0.5420 - val_loss: 0.5701\n",
      "Epoch 85/150\n",
      "452/452 [==============================] - 0s 942us/step - loss: 0.5432 - val_loss: 0.5624\n",
      "Epoch 86/150\n",
      "452/452 [==============================] - 0s 900us/step - loss: 0.5417 - val_loss: 0.5553\n",
      "Epoch 87/150\n",
      "452/452 [==============================] - 1s 1ms/step - loss: 0.5418 - val_loss: 0.5578\n",
      "Epoch 88/150\n",
      "452/452 [==============================] - 0s 869us/step - loss: 0.5415 - val_loss: 0.5533\n",
      "Epoch 89/150\n",
      "452/452 [==============================] - 0s 986us/step - loss: 0.5414 - val_loss: 0.5555\n",
      "Epoch 90/150\n",
      "452/452 [==============================] - 0s 850us/step - loss: 0.5409 - val_loss: 0.5542\n",
      "Epoch 91/150\n",
      "452/452 [==============================] - 1s 1ms/step - loss: 0.5415 - val_loss: 0.5548\n",
      "Epoch 92/150\n",
      "452/452 [==============================] - 0s 825us/step - loss: 0.5413 - val_loss: 0.5671\n",
      "Epoch 93/150\n",
      "452/452 [==============================] - 0s 885us/step - loss: 0.5402 - val_loss: 0.5547\n",
      "Epoch 94/150\n",
      "452/452 [==============================] - 0s 1ms/step - loss: 0.5392 - val_loss: 0.5551\n",
      "Epoch 95/150\n",
      "452/452 [==============================] - 0s 988us/step - loss: 0.5380 - val_loss: 0.5547\n",
      "Epoch 96/150\n",
      "452/452 [==============================] - 0s 900us/step - loss: 0.5376 - val_loss: 0.5518\n",
      "Epoch 97/150\n",
      "452/452 [==============================] - 0s 852us/step - loss: 0.5379 - val_loss: 0.5566\n",
      "Epoch 98/150\n",
      "452/452 [==============================] - 0s 898us/step - loss: 0.5391 - val_loss: 0.5710\n",
      "Epoch 99/150\n",
      "452/452 [==============================] - 0s 969us/step - loss: 0.5375 - val_loss: 0.5491\n",
      "Epoch 100/150\n",
      "452/452 [==============================] - 1s 1ms/step - loss: 0.5351 - val_loss: 0.5488\n",
      "Epoch 101/150\n",
      "452/452 [==============================] - 0s 971us/step - loss: 0.5348 - val_loss: 0.5474\n",
      "Epoch 102/150\n",
      "452/452 [==============================] - 0s 823us/step - loss: 0.5351 - val_loss: 0.5513\n",
      "Epoch 103/150\n",
      "452/452 [==============================] - 0s 883us/step - loss: 0.5334 - val_loss: 0.5516\n",
      "Epoch 104/150\n",
      "452/452 [==============================] - 0s 933us/step - loss: 0.5345 - val_loss: 0.5465\n",
      "Epoch 105/150\n",
      "452/452 [==============================] - 0s 847us/step - loss: 0.5323 - val_loss: 0.5474\n",
      "Epoch 106/150\n",
      "452/452 [==============================] - 0s 1ms/step - loss: 0.5320 - val_loss: 0.5461\n",
      "Epoch 107/150\n",
      "452/452 [==============================] - 0s 902us/step - loss: 0.5307 - val_loss: 0.5473\n",
      "Epoch 108/150\n",
      "452/452 [==============================] - 1s 1ms/step - loss: 0.5311 - val_loss: 0.5439\n",
      "Epoch 109/150\n",
      "452/452 [==============================] - 1s 1ms/step - loss: 0.5298 - val_loss: 0.5535\n",
      "Epoch 110/150\n",
      "452/452 [==============================] - 0s 885us/step - loss: 0.5292 - val_loss: 0.5462\n",
      "Epoch 111/150\n",
      "452/452 [==============================] - 0s 949us/step - loss: 0.5278 - val_loss: 0.5417\n",
      "Epoch 112/150\n",
      "452/452 [==============================] - 1s 1ms/step - loss: 0.5274 - val_loss: 0.5427\n",
      "Epoch 113/150\n",
      "452/452 [==============================] - 0s 1ms/step - loss: 0.5261 - val_loss: 0.5533\n",
      "Epoch 114/150\n",
      "452/452 [==============================] - 0s 982us/step - loss: 0.5253 - val_loss: 0.5453\n",
      "Epoch 115/150\n",
      "452/452 [==============================] - 0s 936us/step - loss: 0.5246 - val_loss: 0.5393\n",
      "Epoch 116/150\n",
      "452/452 [==============================] - 0s 834us/step - loss: 0.5237 - val_loss: 0.5452\n",
      "Epoch 117/150\n",
      "452/452 [==============================] - 0s 889us/step - loss: 0.5241 - val_loss: 0.5385\n",
      "Epoch 118/150\n",
      "452/452 [==============================] - 0s 883us/step - loss: 0.5230 - val_loss: 0.5402\n",
      "Epoch 119/150\n",
      "452/452 [==============================] - 0s 821us/step - loss: 0.5226 - val_loss: 0.5385\n",
      "Epoch 120/150\n",
      "452/452 [==============================] - 0s 872us/step - loss: 0.5210 - val_loss: 0.5344\n",
      "Epoch 121/150\n",
      "452/452 [==============================] - 0s 878us/step - loss: 0.5202 - val_loss: 0.5453\n",
      "Epoch 122/150\n",
      "452/452 [==============================] - 0s 886us/step - loss: 0.5209 - val_loss: 0.5349\n",
      "Epoch 123/150\n",
      "452/452 [==============================] - 0s 951us/step - loss: 0.5199 - val_loss: 0.5467\n",
      "Epoch 124/150\n",
      "452/452 [==============================] - 0s 880us/step - loss: 0.5193 - val_loss: 0.5338\n",
      "Epoch 125/150\n",
      "452/452 [==============================] - 0s 887us/step - loss: 0.5181 - val_loss: 0.5317\n",
      "Epoch 126/150\n",
      "452/452 [==============================] - 0s 883us/step - loss: 0.5180 - val_loss: 0.5320\n",
      "Epoch 127/150\n",
      "452/452 [==============================] - 0s 814us/step - loss: 0.5185 - val_loss: 0.5415\n",
      "Epoch 128/150\n",
      "452/452 [==============================] - 0s 891us/step - loss: 0.5167 - val_loss: 0.5311\n",
      "Epoch 129/150\n",
      "452/452 [==============================] - 0s 827us/step - loss: 0.5155 - val_loss: 0.5273\n",
      "Epoch 130/150\n",
      "452/452 [==============================] - 0s 885us/step - loss: 0.5140 - val_loss: 0.5268\n",
      "Epoch 131/150\n",
      "452/452 [==============================] - 0s 918us/step - loss: 0.5157 - val_loss: 0.5257\n",
      "Epoch 132/150\n",
      "452/452 [==============================] - 0s 878us/step - loss: 0.5148 - val_loss: 0.5269\n",
      "Epoch 133/150\n",
      "452/452 [==============================] - 0s 872us/step - loss: 0.5126 - val_loss: 0.5311\n",
      "Epoch 134/150\n",
      "452/452 [==============================] - 0s 929us/step - loss: 0.5120 - val_loss: 0.5259\n",
      "Epoch 135/150\n",
      "452/452 [==============================] - 0s 869us/step - loss: 0.5130 - val_loss: 0.5226\n",
      "Epoch 136/150\n",
      "452/452 [==============================] - 0s 911us/step - loss: 0.5114 - val_loss: 0.5298\n",
      "Epoch 137/150\n",
      "452/452 [==============================] - 0s 883us/step - loss: 0.5098 - val_loss: 0.5212\n",
      "Epoch 138/150\n",
      "452/452 [==============================] - 0s 887us/step - loss: 0.5099 - val_loss: 0.5186\n",
      "Epoch 139/150\n",
      "452/452 [==============================] - 0s 927us/step - loss: 0.5094 - val_loss: 0.5204\n",
      "Epoch 140/150\n",
      "452/452 [==============================] - 0s 1ms/step - loss: 0.5076 - val_loss: 0.5174\n",
      "Epoch 141/150\n",
      "452/452 [==============================] - 0s 1ms/step - loss: 0.5076 - val_loss: 0.5473\n",
      "Epoch 142/150\n",
      "452/452 [==============================] - 0s 847us/step - loss: 0.5074 - val_loss: 0.5153\n",
      "Epoch 143/150\n",
      "452/452 [==============================] - 0s 836us/step - loss: 0.5062 - val_loss: 0.5135\n",
      "Epoch 144/150\n",
      "452/452 [==============================] - 0s 944us/step - loss: 0.5058 - val_loss: 0.5123\n",
      "Epoch 145/150\n",
      "452/452 [==============================] - 0s 814us/step - loss: 0.5054 - val_loss: 0.5164\n",
      "Epoch 146/150\n",
      "452/452 [==============================] - 0s 878us/step - loss: 0.5064 - val_loss: 0.5117\n",
      "Epoch 147/150\n",
      "452/452 [==============================] - 0s 854us/step - loss: 0.5030 - val_loss: 0.5105\n",
      "Epoch 148/150\n",
      "452/452 [==============================] - 0s 898us/step - loss: 0.5029 - val_loss: 0.5091\n",
      "Epoch 149/150\n",
      "452/452 [==============================] - 0s 913us/step - loss: 0.5021 - val_loss: 0.5084\n",
      "Epoch 150/150\n",
      "452/452 [==============================] - 0s 909us/step - loss: 0.5013 - val_loss: 0.5089\n"
     ]
    },
    {
     "data": {
      "text/plain": [
       "<tensorflow.python.keras.callbacks.History at 0x1e1534146d0>"
      ]
     },
     "execution_count": 23,
     "metadata": {},
     "output_type": "execute_result"
    }
   ],
   "source": [
    "model.fit(x=X_train,\n",
    "          y=y_train.values,\n",
    "          validation_data=(X_test,y_test.values),\n",
    "          batch_size=32,epochs=150)\n",
    "\n",
    "#kalau ada error, coba di bagian deklarasi variabel X dan y, belakangnya ditambahin/diilangin values(), yg ini misal e X = data.drop('SalePrice', axis=1).values()"
   ]
  },
  {
   "cell_type": "markdown",
   "metadata": {},
   "source": [
    "hasil di atas bakal beda2 klo di run ulang yak, karna inisialisasi dan updating nilai penimbang dan bias itu random"
   ]
  },
  {
   "cell_type": "markdown",
   "metadata": {},
   "source": [
    "membandingkan loss dengan validation loss"
   ]
  },
  {
   "cell_type": "code",
   "execution_count": 24,
   "metadata": {},
   "outputs": [],
   "source": [
    "losses = pd.DataFrame(model.history.history)"
   ]
  },
  {
   "cell_type": "code",
   "execution_count": 25,
   "metadata": {},
   "outputs": [
    {
     "data": {
      "text/html": [
       "<div>\n",
       "<style scoped>\n",
       "    .dataframe tbody tr th:only-of-type {\n",
       "        vertical-align: middle;\n",
       "    }\n",
       "\n",
       "    .dataframe tbody tr th {\n",
       "        vertical-align: top;\n",
       "    }\n",
       "\n",
       "    .dataframe thead th {\n",
       "        text-align: right;\n",
       "    }\n",
       "</style>\n",
       "<table border=\"1\" class=\"dataframe\">\n",
       "  <thead>\n",
       "    <tr style=\"text-align: right;\">\n",
       "      <th></th>\n",
       "      <th>loss</th>\n",
       "      <th>val_loss</th>\n",
       "    </tr>\n",
       "  </thead>\n",
       "  <tbody>\n",
       "    <tr>\n",
       "      <th>0</th>\n",
       "      <td>2.529569</td>\n",
       "      <td>1.257901</td>\n",
       "    </tr>\n",
       "    <tr>\n",
       "      <th>1</th>\n",
       "      <td>1.052858</td>\n",
       "      <td>0.809851</td>\n",
       "    </tr>\n",
       "    <tr>\n",
       "      <th>2</th>\n",
       "      <td>0.699860</td>\n",
       "      <td>0.644197</td>\n",
       "    </tr>\n",
       "    <tr>\n",
       "      <th>3</th>\n",
       "      <td>0.644635</td>\n",
       "      <td>0.629762</td>\n",
       "    </tr>\n",
       "    <tr>\n",
       "      <th>4</th>\n",
       "      <td>0.637997</td>\n",
       "      <td>0.633275</td>\n",
       "    </tr>\n",
       "    <tr>\n",
       "      <th>...</th>\n",
       "      <td>...</td>\n",
       "      <td>...</td>\n",
       "    </tr>\n",
       "    <tr>\n",
       "      <th>145</th>\n",
       "      <td>0.506402</td>\n",
       "      <td>0.511656</td>\n",
       "    </tr>\n",
       "    <tr>\n",
       "      <th>146</th>\n",
       "      <td>0.503025</td>\n",
       "      <td>0.510455</td>\n",
       "    </tr>\n",
       "    <tr>\n",
       "      <th>147</th>\n",
       "      <td>0.502878</td>\n",
       "      <td>0.509100</td>\n",
       "    </tr>\n",
       "    <tr>\n",
       "      <th>148</th>\n",
       "      <td>0.502139</td>\n",
       "      <td>0.508422</td>\n",
       "    </tr>\n",
       "    <tr>\n",
       "      <th>149</th>\n",
       "      <td>0.501287</td>\n",
       "      <td>0.508858</td>\n",
       "    </tr>\n",
       "  </tbody>\n",
       "</table>\n",
       "<p>150 rows × 2 columns</p>\n",
       "</div>"
      ],
      "text/plain": [
       "         loss  val_loss\n",
       "0    2.529569  1.257901\n",
       "1    1.052858  0.809851\n",
       "2    0.699860  0.644197\n",
       "3    0.644635  0.629762\n",
       "4    0.637997  0.633275\n",
       "..        ...       ...\n",
       "145  0.506402  0.511656\n",
       "146  0.503025  0.510455\n",
       "147  0.502878  0.509100\n",
       "148  0.502139  0.508422\n",
       "149  0.501287  0.508858\n",
       "\n",
       "[150 rows x 2 columns]"
      ]
     },
     "execution_count": 25,
     "metadata": {},
     "output_type": "execute_result"
    }
   ],
   "source": [
    "losses"
   ]
  },
  {
   "cell_type": "code",
   "execution_count": 26,
   "metadata": {},
   "outputs": [
    {
     "data": {
      "text/plain": [
       "<AxesSubplot:>"
      ]
     },
     "execution_count": 26,
     "metadata": {},
     "output_type": "execute_result"
    },
    {
     "data": {
      "image/png": "[encoded data removed]",
      "text/plain": [
       "<Figure size 432x288 with 1 Axes>"
      ]
     },
     "metadata": {
      "needs_background": "light"
     },
     "output_type": "display_data"
    }
   ],
   "source": [
    "losses.plot()"
   ]
  },
  {
   "cell_type": "markdown",
   "metadata": {},
   "source": [
    "Jika garis oranye semakin lama semakin ke atas, itu berarti overfitting. Jika garis biru yang ke atas, berarti underfitting\n",
    "Beberapa cara mengatasinya yaitu mengubuah jumlah epochs, menambah/mengurangi jumlah hidden layer, menambah/mengurangi perceptron/node/neuron.\n",
    "\n",
    "Lalu ada juga yang namanya fungsi Dropout. Jadi kita membuang sebagian fungsi aktivasi\n",
    "<img src=\"figure/drop.png\">\n",
    "\n",
    "Selain itu bisa juga menambahkan fungsi Early Stopping, yang berguna untuk memberhentikan pembelajaran kalau diindikasikan over/underfit.\n",
    "\n",
    "<img src=\"figure/early.png\">"
   ]
  },
  {
   "cell_type": "markdown",
   "metadata": {},
   "source": [
    "Misal aja nih, ternyata hasilnya overfit. Nah kita lakuin ini:"
   ]
  },
  {
   "cell_type": "code",
   "execution_count": 27,
   "metadata": {},
   "outputs": [],
   "source": [
    "from tensorflow.keras.layers import Dropout\n",
    "from tensorflow.keras.callbacks import EarlyStopping"
   ]
  },
  {
   "cell_type": "code",
   "execution_count": 28,
   "metadata": {},
   "outputs": [],
   "source": [
    "early_stop = EarlyStopping(monitor='val_loss', mode='min', verbose=1, patience=25)"
   ]
  },
  {
   "cell_type": "markdown",
   "metadata": {},
   "source": [
    "mode ada `min`, `max`, dan `auto`.\n",
    "\n",
    "`min` bakal ngeberhentiin training kalau nilai yang dimonitor berhenti berkurang.\n",
    "\n",
    "`max` bakal ngeberhentiin training kalau nilai yang dimonitor berhenti berhenti naik. \n",
    "\n",
    "`auto` pokoknya bakal ngeberhentiin klo ada kejadian di atas.\n",
    "\n",
    "`patience` itu misalnya gini, diindikasiin di epoch ke 100 dia overfitting, nah dia bakal berhenti melakukan training ketika epochnya 100+`patience`, di atas patience=25, jadi dia bakal berhenti pas epoch ke 125. bisa juga diisi 0."
   ]
  },
  {
   "cell_type": "code",
   "execution_count": 29,
   "metadata": {},
   "outputs": [],
   "source": [
    "model = Sequential()\n",
    "\n",
    "model.add(Dense(6,activation='relu')) #input layer\n",
    "model.add(Dropout(0.5))\n",
    "model.add(Dense(6,activation='relu')) #hidden layer\n",
    "model.add(Dropout(0.5))\n",
    "model.add(Dense(1)) #output layer\n",
    "\n",
    "model.compile(optimizer='adam',loss='mse') "
   ]
  },
  {
   "cell_type": "markdown",
   "metadata": {},
   "source": [
    "`Dropout`(0.5) itu mksdnya memberhentikan setengah aktivation function, jadi networknya ga jalan"
   ]
  },
  {
   "cell_type": "code",
   "execution_count": 30,
   "metadata": {},
   "outputs": [
    {
     "name": "stdout",
     "output_type": "stream",
     "text": [
      "Epoch 1/150\n",
      "452/452 - 1s - loss: 3.4759 - val_loss: 1.6069\n",
      "Epoch 2/150\n",
      "452/452 - 0s - loss: 2.0671 - val_loss: 1.4080\n",
      "Epoch 3/150\n",
      "452/452 - 0s - loss: 1.7340 - val_loss: 1.1885\n",
      "Epoch 4/150\n",
      "452/452 - 0s - loss: 1.4991 - val_loss: 1.0701\n",
      "Epoch 5/150\n",
      "452/452 - 0s - loss: 1.3037 - val_loss: 0.9613\n",
      "Epoch 6/150\n",
      "452/452 - 0s - loss: 1.2129 - val_loss: 0.9199\n",
      "Epoch 7/150\n",
      "452/452 - 0s - loss: 1.1198 - val_loss: 0.8453\n",
      "Epoch 8/150\n",
      "452/452 - 0s - loss: 1.0688 - val_loss: 0.8519\n",
      "Epoch 9/150\n",
      "452/452 - 0s - loss: 1.0427 - val_loss: 0.8417\n",
      "Epoch 10/150\n",
      "452/452 - 0s - loss: 1.0174 - val_loss: 0.8677\n",
      "Epoch 11/150\n",
      "452/452 - 0s - loss: 1.0341 - val_loss: 0.8824\n",
      "Epoch 12/150\n",
      "452/452 - 0s - loss: 1.0198 - val_loss: 0.8910\n",
      "Epoch 13/150\n",
      "452/452 - 0s - loss: 1.0166 - val_loss: 0.8512\n",
      "Epoch 14/150\n",
      "452/452 - 0s - loss: 1.0164 - val_loss: 0.8857\n",
      "Epoch 15/150\n",
      "452/452 - 0s - loss: 1.0283 - val_loss: 0.8487\n",
      "Epoch 16/150\n",
      "452/452 - 0s - loss: 1.0199 - val_loss: 0.8789\n",
      "Epoch 17/150\n",
      "452/452 - 0s - loss: 1.0339 - val_loss: 0.8450\n",
      "Epoch 18/150\n",
      "452/452 - 0s - loss: 1.0282 - val_loss: 0.8418\n",
      "Epoch 19/150\n",
      "452/452 - 0s - loss: 1.0144 - val_loss: 0.8423\n",
      "Epoch 20/150\n",
      "452/452 - 0s - loss: 1.0168 - val_loss: 0.8614\n",
      "Epoch 21/150\n",
      "452/452 - 1s - loss: 1.0269 - val_loss: 0.8543\n",
      "Epoch 22/150\n",
      "452/452 - 0s - loss: 1.0221 - val_loss: 0.8745\n",
      "Epoch 23/150\n",
      "452/452 - 0s - loss: 1.0266 - val_loss: 0.8710\n",
      "Epoch 24/150\n",
      "452/452 - 0s - loss: 1.0128 - val_loss: 0.8636\n",
      "Epoch 25/150\n",
      "452/452 - 0s - loss: 1.0201 - val_loss: 0.8868\n",
      "Epoch 26/150\n",
      "452/452 - 0s - loss: 1.0299 - val_loss: 0.8782\n",
      "Epoch 27/150\n",
      "452/452 - 0s - loss: 1.0161 - val_loss: 0.8382\n",
      "Epoch 28/150\n",
      "452/452 - 0s - loss: 1.0220 - val_loss: 0.8112\n",
      "Epoch 29/150\n",
      "452/452 - 0s - loss: 1.0268 - val_loss: 0.8342\n",
      "Epoch 30/150\n",
      "452/452 - 0s - loss: 1.0215 - val_loss: 0.8493\n",
      "Epoch 31/150\n",
      "452/452 - 0s - loss: 1.0284 - val_loss: 0.8784\n",
      "Epoch 32/150\n",
      "452/452 - 0s - loss: 1.0148 - val_loss: 0.8757\n",
      "Epoch 33/150\n",
      "452/452 - 0s - loss: 1.0179 - val_loss: 0.8586\n",
      "Epoch 34/150\n",
      "452/452 - 0s - loss: 1.0239 - val_loss: 0.8436\n",
      "Epoch 35/150\n",
      "452/452 - 0s - loss: 1.0143 - val_loss: 0.8359\n",
      "Epoch 36/150\n",
      "452/452 - 0s - loss: 1.0220 - val_loss: 0.8480\n",
      "Epoch 37/150\n",
      "452/452 - 0s - loss: 1.0201 - val_loss: 0.8500\n",
      "Epoch 38/150\n",
      "452/452 - 0s - loss: 1.0223 - val_loss: 0.8475\n",
      "Epoch 39/150\n",
      "452/452 - 0s - loss: 1.0112 - val_loss: 0.8560\n",
      "Epoch 40/150\n",
      "452/452 - 0s - loss: 1.0148 - val_loss: 0.8258\n",
      "Epoch 41/150\n",
      "452/452 - 0s - loss: 1.0278 - val_loss: 0.8380\n",
      "Epoch 42/150\n",
      "452/452 - 0s - loss: 1.0176 - val_loss: 0.8474\n",
      "Epoch 43/150\n",
      "452/452 - 0s - loss: 1.0063 - val_loss: 0.8215\n",
      "Epoch 44/150\n",
      "452/452 - 0s - loss: 1.0220 - val_loss: 0.8526\n",
      "Epoch 45/150\n",
      "452/452 - 0s - loss: 1.0139 - val_loss: 0.8325\n",
      "Epoch 46/150\n",
      "452/452 - 0s - loss: 1.0072 - val_loss: 0.8225\n",
      "Epoch 47/150\n",
      "452/452 - 0s - loss: 1.0381 - val_loss: 0.8681\n",
      "Epoch 48/150\n",
      "452/452 - 0s - loss: 1.0214 - val_loss: 0.8345\n",
      "Epoch 49/150\n",
      "452/452 - 0s - loss: 1.0205 - val_loss: 0.8323\n",
      "Epoch 50/150\n",
      "452/452 - 0s - loss: 1.0151 - val_loss: 0.8473\n",
      "Epoch 51/150\n",
      "452/452 - 0s - loss: 1.0161 - val_loss: 0.8813\n",
      "Epoch 52/150\n",
      "452/452 - 0s - loss: 1.0072 - val_loss: 0.8494\n",
      "Epoch 53/150\n",
      "452/452 - 0s - loss: 1.0199 - val_loss: 0.8496\n",
      "Epoch 00053: early stopping\n"
     ]
    },
    {
     "data": {
      "text/plain": [
       "<tensorflow.python.keras.callbacks.History at 0x1e154a571c0>"
      ]
     },
     "execution_count": 30,
     "metadata": {},
     "output_type": "execute_result"
    }
   ],
   "source": [
    "model.fit(x=X_train, \n",
    "          y=y_train, \n",
    "          epochs=150,\n",
    "          validation_data=(X_test, y_test), verbose=2,\n",
    "          callbacks=[early_stop])"
   ]
  },
  {
   "cell_type": "code",
   "execution_count": 31,
   "metadata": {},
   "outputs": [],
   "source": [
    "losses = pd.DataFrame(model.history.history)"
   ]
  },
  {
   "cell_type": "code",
   "execution_count": 32,
   "metadata": {},
   "outputs": [
    {
     "data": {
      "text/plain": [
       "<AxesSubplot:>"
      ]
     },
     "execution_count": 32,
     "metadata": {},
     "output_type": "execute_result"
    },
    {
     "data": {
      "image/png": "[encoded data removed]",
      "text/plain": [
       "<Figure size 432x288 with 1 Axes>"
      ]
     },
     "metadata": {
      "needs_background": "light"
     },
     "output_type": "display_data"
    }
   ],
   "source": [
    "losses.plot()"
   ]
  },
  {
   "cell_type": "code",
   "execution_count": 33,
   "metadata": {},
   "outputs": [],
   "source": [
    "early_stop = EarlyStopping(monitor='val_loss', mode='max', verbose=1, patience=25)"
   ]
  },
  {
   "cell_type": "code",
   "execution_count": 34,
   "metadata": {},
   "outputs": [],
   "source": [
    "model = Sequential()\n",
    "\n",
    "model.add(Dense(6,activation='relu')) #input layer\n",
    "model.add(Dense(6,activation='relu')) #hidden layer\n",
    "model.add(Dense(1)) #output layer\n",
    "\n",
    "model.compile(optimizer='adam',loss='mse') "
   ]
  },
  {
   "cell_type": "code",
   "execution_count": 35,
   "metadata": {},
   "outputs": [
    {
     "name": "stdout",
     "output_type": "stream",
     "text": [
      "Epoch 1/400\n",
      "452/452 - 1s - loss: 1.6750 - val_loss: 1.0413\n",
      "Epoch 2/400\n",
      "452/452 - 0s - loss: 0.9655 - val_loss: 0.8837\n",
      "Epoch 3/400\n",
      "452/452 - 0s - loss: 0.7980 - val_loss: 0.7144\n",
      "Epoch 4/400\n",
      "452/452 - 0s - loss: 0.6778 - val_loss: 0.6508\n",
      "Epoch 5/400\n",
      "452/452 - 0s - loss: 0.6517 - val_loss: 0.6433\n",
      "Epoch 6/400\n",
      "452/452 - 0s - loss: 0.6494 - val_loss: 0.6443\n",
      "Epoch 7/400\n",
      "452/452 - 0s - loss: 0.6474 - val_loss: 0.6433\n",
      "Epoch 8/400\n",
      "452/452 - 0s - loss: 0.6445 - val_loss: 0.6367\n",
      "Epoch 9/400\n",
      "452/452 - 0s - loss: 0.6420 - val_loss: 0.6342\n",
      "Epoch 10/400\n",
      "452/452 - 0s - loss: 0.6384 - val_loss: 0.6314\n",
      "Epoch 11/400\n",
      "452/452 - 0s - loss: 0.6356 - val_loss: 0.6306\n",
      "Epoch 12/400\n",
      "452/452 - 0s - loss: 0.6333 - val_loss: 0.6263\n",
      "Epoch 13/400\n",
      "452/452 - 0s - loss: 0.6298 - val_loss: 0.6244\n",
      "Epoch 14/400\n",
      "452/452 - 0s - loss: 0.6263 - val_loss: 0.6199\n",
      "Epoch 15/400\n",
      "452/452 - 0s - loss: 0.6234 - val_loss: 0.6198\n",
      "Epoch 16/400\n",
      "452/452 - 0s - loss: 0.6201 - val_loss: 0.6125\n",
      "Epoch 17/400\n",
      "452/452 - 0s - loss: 0.6173 - val_loss: 0.6106\n",
      "Epoch 18/400\n",
      "452/452 - 0s - loss: 0.6129 - val_loss: 0.6056\n",
      "Epoch 19/400\n",
      "452/452 - 0s - loss: 0.6092 - val_loss: 0.6070\n",
      "Epoch 20/400\n",
      "452/452 - 0s - loss: 0.6065 - val_loss: 0.5995\n",
      "Epoch 21/400\n",
      "452/452 - 0s - loss: 0.6025 - val_loss: 0.5951\n",
      "Epoch 22/400\n",
      "452/452 - 0s - loss: 0.5989 - val_loss: 0.6000\n",
      "Epoch 23/400\n",
      "452/452 - 0s - loss: 0.5965 - val_loss: 0.5882\n",
      "Epoch 24/400\n",
      "452/452 - 0s - loss: 0.5923 - val_loss: 0.5850\n",
      "Epoch 25/400\n",
      "452/452 - 0s - loss: 0.5890 - val_loss: 0.5825\n",
      "Epoch 26/400\n",
      "452/452 - 0s - loss: 0.5855 - val_loss: 0.5811\n",
      "Epoch 00026: early stopping\n"
     ]
    },
    {
     "data": {
      "text/plain": [
       "<tensorflow.python.keras.callbacks.History at 0x1e15502ad00>"
      ]
     },
     "execution_count": 35,
     "metadata": {},
     "output_type": "execute_result"
    }
   ],
   "source": [
    "model.fit(x=X_train, \n",
    "          y=y_train, \n",
    "          epochs=400,\n",
    "          validation_data=(X_test, y_test), verbose=2,\n",
    "          callbacks=[early_stop])"
   ]
  },
  {
   "cell_type": "code",
   "execution_count": 36,
   "metadata": {},
   "outputs": [],
   "source": [
    "losses = pd.DataFrame(model.history.history)"
   ]
  },
  {
   "cell_type": "code",
   "execution_count": 37,
   "metadata": {},
   "outputs": [
    {
     "data": {
      "text/plain": [
       "<AxesSubplot:>"
      ]
     },
     "execution_count": 37,
     "metadata": {},
     "output_type": "execute_result"
    },
    {
     "data": {
      "image/png": "[encoded data removed]",
      "text/plain": [
       "<Figure size 432x288 with 1 Axes>"
      ]
     },
     "metadata": {
      "needs_background": "light"
     },
     "output_type": "display_data"
    }
   ],
   "source": [
    "losses.plot()"
   ]
  },
  {
   "cell_type": "markdown",
   "metadata": {},
   "source": [
    "Ternyata dipakein dropout malah gabagus hasilnya."
   ]
  },
  {
   "cell_type": "markdown",
   "metadata": {},
   "source": [
    "### Model Evaluation "
   ]
  },
  {
   "cell_type": "code",
   "execution_count": 38,
   "metadata": {},
   "outputs": [],
   "source": [
    "from sklearn.metrics import mean_squared_error,mean_absolute_error,explained_variance_score"
   ]
  },
  {
   "cell_type": "code",
   "execution_count": 39,
   "metadata": {},
   "outputs": [
    {
     "data": {
      "text/plain": [
       "array([[0.24712763, 0.33333333, 0.07578484, 0.09767782, 0.00238235,\n",
       "        0.00112374],\n",
       "       [0.17579068, 0.62745098, 0.02492117, 0.02775877, 0.03615572,\n",
       "        0.00171913],\n",
       "       [0.17912167, 0.47058824, 0.02131895, 0.02652413, 0.15569383,\n",
       "        0.00439971],\n",
       "       ...,\n",
       "       [0.11674322, 0.82352941, 0.02469675, 0.0268154 , 0.05092632,\n",
       "        0.00187474],\n",
       "       [0.16959766, 0.01960784, 0.02578037, 0.02685689, 0.04492839,\n",
       "        0.00124809],\n",
       "       [0.1200811 , 0.90196078, 0.02225972, 0.02197632, 0.02183357,\n",
       "        0.00229658]])"
      ]
     },
     "execution_count": 39,
     "metadata": {},
     "output_type": "execute_result"
    }
   ],
   "source": [
    "X_test"
   ]
  },
  {
   "cell_type": "code",
   "execution_count": 40,
   "metadata": {},
   "outputs": [],
   "source": [
    "predictions = model.predict(X_test)"
   ]
  },
  {
   "cell_type": "code",
   "execution_count": 41,
   "metadata": {},
   "outputs": [
    {
     "data": {
      "text/plain": [
       "0.5641443566477006"
      ]
     },
     "execution_count": 41,
     "metadata": {},
     "output_type": "execute_result"
    }
   ],
   "source": [
    "mean_absolute_error(y_test,predictions) #mean absolute error antara y test (nilai asli) dengan y prediction"
   ]
  },
  {
   "cell_type": "code",
   "execution_count": 42,
   "metadata": {},
   "outputs": [
    {
     "data": {
      "text/plain": [
       "0.7623115015482161"
      ]
     },
     "execution_count": 42,
     "metadata": {},
     "output_type": "execute_result"
    }
   ],
   "source": [
    "np.sqrt(mean_squared_error(y_test,predictions)) #root mean square error antara y test (nilai asli) dengan y prediction"
   ]
  },
  {
   "cell_type": "code",
   "execution_count": 43,
   "metadata": {},
   "outputs": [
    {
     "data": {
      "text/plain": [
       "0.5653730032807149"
      ]
     },
     "execution_count": 43,
     "metadata": {},
     "output_type": "execute_result"
    }
   ],
   "source": [
    "explained_variance_score(y_test,predictions) #nilai varians yang bisa dijelaskan oleh model"
   ]
  },
  {
   "cell_type": "code",
   "execution_count": 44,
   "metadata": {},
   "outputs": [
    {
     "data": {
      "text/plain": [
       "[<matplotlib.lines.Line2D at 0x1e15641ee20>]"
      ]
     },
     "execution_count": 44,
     "metadata": {},
     "output_type": "execute_result"
    },
    {
     "data": {
      "image/png": "[encoded data removed]",
      "text/plain": [
       "<Figure size 432x288 with 1 Axes>"
      ]
     },
     "metadata": {
      "needs_background": "light"
     },
     "output_type": "display_data"
    }
   ],
   "source": [
    "# Our predictions\n",
    "plt.scatter(y_test,predictions)\n",
    "\n",
    "# Perfect predictions\n",
    "plt.plot(y_test,y_test,'r')"
   ]
  },
  {
   "cell_type": "code",
   "execution_count": 45,
   "metadata": {},
   "outputs": [],
   "source": [
    "errors = y_test.values.reshape(6192, 1) - predictions"
   ]
  },
  {
   "cell_type": "code",
   "execution_count": 54,
   "metadata": {},
   "outputs": [
    {
     "name": "stderr",
     "output_type": "stream",
     "text": [
      "C:\\Users\\ASUS\\anaconda3\\lib\\site-packages\\seaborn\\distributions.py:2551: FutureWarning: `distplot` is a deprecated function and will be removed in a future version. Please adapt your code to use either `displot` (a figure-level function with similar flexibility) or `histplot` (an axes-level function for histograms).\n",
      "  warnings.warn(msg, FutureWarning)\n"
     ]
    },
    {
     "data": {
      "text/plain": [
       "<AxesSubplot:ylabel='Density'>"
      ]
     },
     "execution_count": 54,
     "metadata": {},
     "output_type": "execute_result"
    },
    {
     "data": {
      "image/png": "[encoded data removed]",
      "text/plain": [
       "<Figure size 432x288 with 1 Axes>"
      ]
     },
     "metadata": {
      "needs_background": "light"
     },
     "output_type": "display_data"
    }
   ],
   "source": [
    "sns.distplot(errors)"
   ]
  },
  {
   "cell_type": "markdown",
   "metadata": {},
   "source": [
    "### Predicting"
   ]
  },
  {
   "cell_type": "code",
   "execution_count": 55,
   "metadata": {},
   "outputs": [],
   "source": [
    "single_house = df.drop(['SalePrice','Latitude', 'Longitude'],axis=1).iloc[0]\n",
    "#iloc[0] untuk mengambil data pada baris pertama"
   ]
  },
  {
   "cell_type": "code",
   "execution_count": 56,
   "metadata": {},
   "outputs": [
    {
     "data": {
      "text/plain": [
       "MedInc          8.325200\n",
       "HouseAge       41.000000\n",
       "AveRooms        6.984127\n",
       "AveBedrms       1.023810\n",
       "Population    322.000000\n",
       "AveOccup        2.555556\n",
       "Name: 0, dtype: float64"
      ]
     },
     "execution_count": 56,
     "metadata": {},
     "output_type": "execute_result"
    }
   ],
   "source": [
    "single_house"
   ]
  },
  {
   "cell_type": "code",
   "execution_count": 57,
   "metadata": {},
   "outputs": [],
   "source": [
    "single_house = single_house.values.reshape(-1, 6) "
   ]
  },
  {
   "cell_type": "markdown",
   "metadata": {},
   "source": [
    "Kita reshape menjadi bentuk array\n",
    "\n",
    "-1 berarti semua variabel ikut\n",
    "\n",
    "6 mksdnya banyak variabel"
   ]
  },
  {
   "cell_type": "code",
   "execution_count": 58,
   "metadata": {},
   "outputs": [
    {
     "data": {
      "text/plain": [
       "array([[  8.3252    ,  41.        ,   6.98412698,   1.02380952,\n",
       "        322.        ,   2.55555556]])"
      ]
     },
     "execution_count": 58,
     "metadata": {},
     "output_type": "execute_result"
    }
   ],
   "source": [
    "single_house"
   ]
  },
  {
   "cell_type": "code",
   "execution_count": 59,
   "metadata": {},
   "outputs": [],
   "source": [
    "single_house = scaler.transform(single_house) #minmaxscaler"
   ]
  },
  {
   "cell_type": "code",
   "execution_count": 60,
   "metadata": {},
   "outputs": [
    {
     "data": {
      "text/plain": [
       "array([[4.587323]], dtype=float32)"
      ]
     },
     "execution_count": 60,
     "metadata": {},
     "output_type": "execute_result"
    }
   ],
   "source": [
    "model.predict(single_house)"
   ]
  },
  {
   "cell_type": "code",
   "execution_count": 61,
   "metadata": {},
   "outputs": [
    {
     "data": {
      "text/html": [
       "<div>\n",
       "<style scoped>\n",
       "    .dataframe tbody tr th:only-of-type {\n",
       "        vertical-align: middle;\n",
       "    }\n",
       "\n",
       "    .dataframe tbody tr th {\n",
       "        vertical-align: top;\n",
       "    }\n",
       "\n",
       "    .dataframe thead th {\n",
       "        text-align: right;\n",
       "    }\n",
       "</style>\n",
       "<table border=\"1\" class=\"dataframe\">\n",
       "  <thead>\n",
       "    <tr style=\"text-align: right;\">\n",
       "      <th></th>\n",
       "      <th>MedInc</th>\n",
       "      <th>HouseAge</th>\n",
       "      <th>AveRooms</th>\n",
       "      <th>AveBedrms</th>\n",
       "      <th>Population</th>\n",
       "      <th>AveOccup</th>\n",
       "      <th>Latitude</th>\n",
       "      <th>Longitude</th>\n",
       "      <th>SalePrice</th>\n",
       "    </tr>\n",
       "  </thead>\n",
       "  <tbody>\n",
       "    <tr>\n",
       "      <th>0</th>\n",
       "      <td>8.3252</td>\n",
       "      <td>41.0</td>\n",
       "      <td>6.984127</td>\n",
       "      <td>1.02381</td>\n",
       "      <td>322.0</td>\n",
       "      <td>2.555556</td>\n",
       "      <td>37.88</td>\n",
       "      <td>-122.23</td>\n",
       "      <td>4.526</td>\n",
       "    </tr>\n",
       "  </tbody>\n",
       "</table>\n",
       "</div>"
      ],
      "text/plain": [
       "   MedInc  HouseAge  AveRooms  AveBedrms  Population  AveOccup  Latitude  \\\n",
       "0  8.3252      41.0  6.984127    1.02381       322.0  2.555556     37.88   \n",
       "\n",
       "   Longitude  SalePrice  \n",
       "0    -122.23      4.526  "
      ]
     },
     "execution_count": 61,
     "metadata": {},
     "output_type": "execute_result"
    }
   ],
   "source": [
    "df.head(1)"
   ]
  },
  {
   "cell_type": "markdown",
   "metadata": {},
   "source": [
    "Harga aslinya 4.526, harga yg dipredict 4.568731\n",
    "mayan lah ya"
   ]
  },
  {
   "cell_type": "markdown",
   "metadata": {},
   "source": [
    " "
   ]
  }
 ],
 "metadata": {
  "kernelspec": {
   "display_name": "Python 3",
   "language": "python",
   "name": "python3"
  },
  "language_info": {
   "codemirror_mode": {
    "name": "ipython",
    "version": 3
   },
   "file_extension": ".py",
   "mimetype": "text/x-python",
   "name": "python",
   "nbconvert_exporter": "python",
   "pygments_lexer": "ipython3",
   "version": "3.8.5"
  }
 },
 "nbformat": 4,
 "nbformat_minor": 4
}
